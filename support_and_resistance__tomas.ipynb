{
 "cells": [
  {
   "cell_type": "code",
   "execution_count": 58,
   "metadata": {
    "collapsed": true
   },
   "outputs": [],
   "source": [
    "import os\n",
    "import sys\n",
    "import time\n",
    "from enum import Enum\n",
    "\n",
    "from mpl_toolkits.mplot3d import Axes3D\n",
    "import matplotlib.pyplot as plt\n",
    "import numpy as np\n",
    "import pandas as pd\n",
    "import requests\n",
    "from functional import seq\n",
    "from math import sqrt\n",
    "from multiprocessing import Pool\n",
    "import threading\n",
    "\n",
    "# Load the \"autoreload\" extension\n",
    "% reload_ext autoreload\n",
    "\n",
    "# always reload modules marked with \"%aimport\"\n",
    "% autoreload 1\n",
    "\n",
    "# add the 'src' directory as one where we can import modules\n",
    "src_dir = os.path.join(os.getcwd(), os.pardir, os.pardir, 'src')\n",
    "sys.path.append(src_dir)"
   ]
  },
  {
   "cell_type": "code",
   "execution_count": 59,
   "metadata": {
    "collapsed": true
   },
   "outputs": [],
   "source": [
    "class PeriodColumns(Enum):\n",
    "    ID = 'id', 0\n",
    "    LOW = 'low', 1\n",
    "    HIGH = 'high', 2\n",
    "    OPEN = 'open', 3\n",
    "    CLOSE = 'close', 4\n",
    "    WEIGHTED_AVERAGE = 'weightedAverage', 5\n",
    "    VOLUME = 'volume', 6\n",
    "    BASE_PRICE = 'basePrice', 7\n",
    "    BASE_PRICE_BIN = 'basePriceBin', 8\n",
    "\n",
    "    def __init__(self, column_name, index):\n",
    "        self.column_name = column_name\n",
    "        self.index = index\n",
    "\n",
    "\n",
    "class BinColumns(Enum):\n",
    "    BIN_ID = 'binId'\n",
    "    AGG_VOLUME = 'aggVolume'\n",
    "    LAST_PREVIOUS_BIN_ID = 'recentStrongestBinId'\n",
    "    CONTAINS_BUY_ORDER = 'containsBuyOrder'\n",
    "\n",
    "    OLD_LAST_AGG_VOLUME = 'oldLastAggVolume'\n",
    "    OLD_LAST_MAX_VOLUME = 'oldLastMaxVolume'\n",
    "    OLD_LAST_BASE_PRICE = 'oldLastBasePrice'\n",
    "    OLD_ONE_BEFORE_LAST_AGG_VOLUME = 'oldOneBeforeLastAggVolume'\n",
    "    OLD_ONE_BEFORE_LAST_MAX_VOLUME = 'oldOneBeforeLastMaxVolume'\n",
    "    OLD_PERIOD_START = 'oldPeriodStart'\n",
    "    OLD_PERIOD_END = 'oldPeriodEnd'\n",
    "    OLD_BASE_SCORE = 'oldBaseScore'\n",
    "\n",
    "    NEW_LAST_AGG_VOLUME = 'newLastAggVolume'\n",
    "    NEW_LAST_MAX_VOLUME = 'newLastMaxVolume'\n",
    "    NEW_LAST_BASE_PRICE = 'newLastBasePrice'\n",
    "    NEW_ONE_BEFORE_LAST_AGG_VOLUME = 'newOneBeforeLastAggVolume'\n",
    "    NEW_ONE_BEFORE_LAST_MAX_VOLUME = 'newOneBeforeLastMaxVolume'\n",
    "    NEW_PERIOD_START = 'newPeriodStart'\n",
    "    NEW_PERIOD_END = 'newPeriodEnd'\n",
    "    NEW_BASE_SCORE = 'newBaseScore'\n",
    "\n",
    "    def __init__(self, column_name):\n",
    "        self.column_name = column_name\n",
    "\n",
    "\n",
    "def calculate_profit_in_percents(sell_price_without_fee, buy_price_without_fee):\n",
    "    sell_price_with_fee = sell_price_without_fee * (1 - trading_fee_decimal)\n",
    "    buy_price_with_fee = buy_price_without_fee * (1 + trading_fee_decimal)\n",
    "    return (sell_price_with_fee / buy_price_with_fee - 1) * 100\n",
    "\n",
    "\n",
    "def add_trading_fee_to_volume(volume):\n",
    "    return volume / (1 + trading_fee_decimal)\n",
    "\n",
    "\n",
    "def subtract_trading_fee_from_volume(volume):\n",
    "    return volume / (1 - trading_fee_decimal)\n",
    "\n",
    "\n",
    "def calculate_trading_fee(price, volume):\n",
    "    return price * volume * trading_fee_decimal\n",
    "\n",
    "\n",
    "class CurrencyPair:\n",
    "    def __init__(self, base_currency_symbol, target_currency_symbol, min_target_currency_investment):\n",
    "        self.base_currency_symbol = base_currency_symbol\n",
    "        self.target_currency_symbol = target_currency_symbol\n",
    "        self.min_target_currency_investment = min_target_currency_investment\n",
    "\n",
    "    def get_name(self):\n",
    "        return '{}_{}'.format(self.base_currency_symbol, self.target_currency_symbol)\n",
    "\n",
    "\n",
    "class Wallet:\n",
    "    def __init__(self, currency_pair):\n",
    "        self.currency_pair = currency_pair\n",
    "        self.base_currency_amount = 0\n",
    "        self.base_currency_paid_on_fees = 0\n",
    "        self.target_currency_amount = 0\n",
    "\n",
    "    def buy(self, price, volume):\n",
    "        volume_with_fee = add_trading_fee_to_volume(volume)\n",
    "\n",
    "        if self.base_currency_amount < price * volume_with_fee:\n",
    "            bought_volume_without_fee = subtract_trading_fee_from_volume(self.base_currency_amount / price)\n",
    "            self.target_currency_amount += bought_volume_without_fee\n",
    "            self.base_currency_amount = 0\n",
    "            self.base_currency_paid_on_fees += calculate_trading_fee(price, bought_volume_without_fee)\n",
    "            return bought_volume_without_fee\n",
    "        else:\n",
    "            self.target_currency_amount += volume\n",
    "            self.base_currency_amount -= price * volume_with_fee\n",
    "            self.base_currency_paid_on_fees += calculate_trading_fee(price, volume)\n",
    "            return volume\n",
    "\n",
    "    def sell(self, price, volume):\n",
    "        volume_with_fee = add_trading_fee_to_volume(volume)\n",
    "\n",
    "        sold_volume_with_fee = min(self.target_currency_amount, volume_with_fee)\n",
    "        sold_volume_without_fee = subtract_trading_fee_from_volume(sold_volume_with_fee)\n",
    "        self.target_currency_amount -= sold_volume_with_fee\n",
    "        self.base_currency_amount += price * sold_volume_without_fee\n",
    "        self.base_currency_paid_on_fees += calculate_trading_fee(price, sold_volume_without_fee)\n",
    "        return sold_volume_without_fee\n",
    "\n",
    "    def get_total_in_base_currency(self, current_price):\n",
    "        return self.base_currency_amount + current_price * self.target_currency_amount\n",
    "\n",
    "    def to_string(self, current_price):\n",
    "        return 'WALLET: {} {:9.4f}, {} {:9.4f} => in total {} {:9.4f}, spent on fees {} {:9.4f}'.format(\n",
    "            self.currency_pair.base_currency_symbol, self.base_currency_amount,\n",
    "            self.currency_pair.target_currency_symbol, self.target_currency_amount,\n",
    "            self.currency_pair.base_currency_symbol, self.get_total_in_base_currency(current_price),\n",
    "            self.currency_pair.base_currency_symbol, self.base_currency_paid_on_fees)\n",
    "\n",
    "\n",
    "# Represents an outstanding order.\n",
    "class OutstandingOrder:\n",
    "    def __init__(self, price, volume):\n",
    "        self.price = price\n",
    "        self.volume = volume\n",
    "\n",
    "    def to_string(self, current_price):\n",
    "        return self.__str__()\n",
    "\n",
    "    def draw(self, plt, total_period_count):\n",
    "        pass\n",
    "\n",
    "\n",
    "# Only drawing of sell order is currently supported. The reason is that buy orders are \n",
    "# immediately after their creation executed.\n",
    "class OutstandingBuyOrder(OutstandingOrder):\n",
    "    def __init__(self, buy_price, buy_volume, base_price, created_on_period_index, created_on_bin_index):\n",
    "        super().__init__(buy_price, buy_volume)\n",
    "        self.base_price = base_price\n",
    "        self.created_on_period_index = created_on_period_index\n",
    "        self.created_on_bin_index = created_on_bin_index\n",
    "\n",
    "    def calculate_potential_profit_in_percents(self):\n",
    "        return calculate_profit_in_percents(self.base_price, self.price)\n",
    "\n",
    "    def __str__(self):\n",
    "        return '{:4}: {} ({} {:7.2f}, {} {:7.2f}), {} {:9.5f}, {} {:6.0f}, {} {:6.2f}%'.format(\n",
    "            'BUY',\n",
    "            'prices', 'base', self.base_price, 'buy', self.price,\n",
    "            'buyVol', self.volume,\n",
    "            'createdOn', self.created_on_period_index,\n",
    "            'potentialProfit', self.calculate_potential_profit_in_percents())\n",
    "\n",
    "\n",
    "class OutstandingSellOrder(OutstandingOrder):\n",
    "    def __init__(self, sell_price, sell_volume, buy_order_execution):\n",
    "        super().__init__(sell_price, sell_volume)\n",
    "        self.buy_order_execution = buy_order_execution\n",
    "\n",
    "    def calculate_planned_profit_in_percents(self):\n",
    "        return calculate_profit_in_percents(self.price, self.buy_order_execution.price)\n",
    "\n",
    "    def calculate_current_profit_in_percents(self, current_price):\n",
    "        return calculate_profit_in_percents(current_price, self.buy_order_execution.price)\n",
    "\n",
    "    def to_string(self, current_price):\n",
    "        return '{:4}: {} ({} {:7.2f}, {} {:7.2f}, {} {:7.2f}), {} {:9.5f}, {} {:6.0f}, {} ({} {:6.2f}%, {} {:6.2f}%)'.format(\n",
    "            'SELL',\n",
    "            'prices', 'base', self.buy_order_execution.order.base_price, 'bought', self.buy_order_execution.price,\n",
    "            'sell', self.price,\n",
    "            'sellVol', self.volume,\n",
    "            'buyCreatedOn', self.buy_order_execution.order.created_on_period_index,\n",
    "            'profit', 'planned', self.calculate_planned_profit_in_percents(), 'current',\n",
    "            self.calculate_current_profit_in_percents(current_price))\n",
    "\n",
    "    def draw(self, plt, total_period_count):\n",
    "        color = 'red'\n",
    "        line_style = 'dashed'\n",
    "        line_width = (self.calculate_planned_profit_in_percents() / 10).astype('int') + 1\n",
    "\n",
    "        # Vertical line from the buy point\n",
    "        plt.plot([self.buy_order_execution.order.created_on_period_index,\n",
    "                  self.buy_order_execution.order.created_on_period_index],\n",
    "                 [self.buy_order_execution.price, self.price],\n",
    "                 linestyle=line_style, color=color, linewidth=line_width)\n",
    "        # Horizontal line to the sell point (different than in TradingHistoryEntry class in order to\n",
    "        # mitigate overlapping)\n",
    "        plt.plot([self.buy_order_execution.order.created_on_period_index, total_period_count],\n",
    "                 [self.price, self.price],\n",
    "                 linestyle=line_style, color=color, linewidth=line_width)\n",
    "\n",
    "\n",
    "class OutstandingOrderManager:\n",
    "    def __init__(self):\n",
    "        self.orders = []\n",
    "\n",
    "    def to_string(self, current_price):\n",
    "        orders_string = '\\n'.join(order.to_string(current_price) for order in self.orders)\n",
    "        return 'ORDERS:\\n{}'.format(orders_string)\n",
    "\n",
    "\n",
    "class OrderExecution:\n",
    "    def __init__(self, order, price, volume, executed_on_period_index):\n",
    "        self.order = order\n",
    "        self.price = price\n",
    "        self.volume = volume\n",
    "        self.executed_on_period_index = executed_on_period_index\n",
    "\n",
    "\n",
    "class BuyOrderExecution(OrderExecution):\n",
    "    def __init__(self, buy_order, bought_price, bought_volume, bought_on_period_index,\n",
    "                 base_currency_remaining_amount):\n",
    "        super().__init__(buy_order, bought_price, bought_volume, bought_on_period_index)\n",
    "        self.base_currency_remaining_amount = base_currency_remaining_amount\n",
    "\n",
    "    def calculate_potential_profit_in_percents(self):\n",
    "        return calculate_profit_in_percents(self.order.base_price, self.price)\n",
    "\n",
    "    def __str__(self):\n",
    "        return '{:6}: {} ({} {:7.2f}, {} {:7.2f}), {} {:9.5f}, {} {:6.0f}, {} {:6.2f}%, {} {:7.2f}'.format(\n",
    "            'BOUGHT',\n",
    "            'prices', 'base', self.order.base_price, 'bought', self.price,\n",
    "            'boughtVol', self.volume,\n",
    "            'boughtOn', self.order.executed_on_period_index,\n",
    "            'potentialProfit', self.calculate_potential_profit_in_percents(),\n",
    "            'remainingBaseCurrency', self.base_currency_remaining_amount)\n",
    "\n",
    "    def draw(self, plt):\n",
    "        color = 'green'\n",
    "\n",
    "        plt.plot(self.executed_on_period_index, self.price, marker='o', color=color)\n",
    "\n",
    "        line_style = 'dotted'\n",
    "        plt.plot([self.executed_on_period_index, self.executed_on_period_index],\n",
    "                 [self.price, self.order.base_price],\n",
    "                 linestyle=line_style, color=color)\n",
    "\n",
    "\n",
    "class SellOrderExecution(OrderExecution):\n",
    "    def __init__(self, sell_order, sold_price, sold_volume, sold_on_period_index):\n",
    "        super().__init__(sell_order, sold_price, sold_volume, sold_on_period_index)\n",
    "\n",
    "    def calculate_realized_profit_in_percents(self):\n",
    "        return calculate_profit_in_percents(self.price, self.order.buy_order_execution.price)\n",
    "\n",
    "    def calculate_realized_profit_decimal(self):\n",
    "        return self.price * self.volume - self.order.buy_order_execution.price * self.order.buy_order_execution.volume\n",
    "\n",
    "    def __str__(self):\n",
    "        return '{:6}: {} ({} {:7.2f}, {} {:7.2f}, {} {:7.2f}), {} {:9.5f}, {} {:6.0f}, {} ({:6.2f}%, {:7.4f}),' \\\n",
    "               ' {} {:7.2f}'.format(\n",
    "            'SOLD',\n",
    "            'prices', 'base', self.order.buy_order_execution.order.base_price, 'bought',\n",
    "            self.order.buy_order_execution.price, 'sold', self.price,\n",
    "            'soldVol', self.volume,\n",
    "            'soldOn', self.executed_on_period_index,\n",
    "            'profit', self.calculate_realized_profit_in_percents(), self.calculate_realized_profit_decimal(),\n",
    "            'buyRemainingBaseCurrency', self.order.buy_order_execution.base_currency_remaining_amount)\n",
    "\n",
    "    def draw(self, plt):\n",
    "        color = 'red'\n",
    "\n",
    "        plt.plot(self.executed_on_period_index, self.price, marker='o', color=color)\n",
    "\n",
    "        line_style = 'dotted'\n",
    "        # Horizontal line from the buy point\n",
    "        plt.plot([self.order.buy_order_execution.executed_on_period_index, self.executed_on_period_index],\n",
    "                 [self.order.buy_order_execution.price, self.order.buy_order_execution.price],\n",
    "                 linestyle=line_style, color=color)\n",
    "        # Vertical line to the sell point\n",
    "        plt.plot([self.executed_on_period_index, self.executed_on_period_index],\n",
    "                 [self.order.buy_order_execution.price, self.price],\n",
    "                 linestyle=line_style, color=color)\n",
    "\n",
    "\n",
    "class TradingHistory:\n",
    "    def __init__(self):\n",
    "        self.order_executions = []\n",
    "\n",
    "    def __str__(self):\n",
    "        order_executions_string = '\\n'.join(order_execution.__str__() for order_execution in self.order_executions if\n",
    "                                            isinstance(order_execution, SellOrderExecution))\n",
    "        return 'TRADING_HISTORY:\\n{}'.format(order_executions_string)\n",
    "\n",
    "\n",
    "class ExchangePlatform:\n",
    "    def __init__(self, currency_pair):\n",
    "        self.wallet = Wallet(currency_pair)\n",
    "        self.outstanding_order_manager = OutstandingOrderManager()\n",
    "        self.trading_history = TradingHistory()\n",
    "\n",
    "    def deposit(self, base_currency_amount):\n",
    "        self.wallet.base_currency_amount += base_currency_amount\n",
    "\n",
    "    def determine_buy_order_volume(self, potential_profit_in_percents,\n",
    "                                   last_base_score, current_price, algorithm_config):\n",
    "\n",
    "        # 1% of the total money in the wallet expressed in the target currency\n",
    "        one_percent_of_total_volume = (self.wallet.get_total_in_base_currency(\n",
    "            current_price) / 100) / current_price\n",
    "\n",
    "        profit_coefficient = sqrt(potential_profit_in_percents - algorithm_config.min_buy_order_profit_in_percents) \\\n",
    "                             * last_base_score * algorithm_config.volume_unit_target_currency_to_buy_in_percents\n",
    "\n",
    "        number_of_percents_of_total_volume_to_buy = min(profit_coefficient,\n",
    "                                                        algorithm_config.max_buy_order_volume_in_wallet_percents)\n",
    "\n",
    "        # DO NOT DELETE\n",
    "        # if number_of_percents_of_total_volume_to_buy == algorithm_config.max_buy_order_volume_in_wallet_percents:\n",
    "        #     print('Max number of percents to buy reached (price {:7.2f})'.format(current_price))\n",
    "\n",
    "        return number_of_percents_of_total_volume_to_buy * one_percent_of_total_volume\n",
    "\n",
    "    def create_buy_order_if_wanted(self, current_period_index, current_price, last_base_score,\n",
    "                                   last_base_last_base_price, current_bin_index, price_bins,\n",
    "                                   currency_pair, algorithm_config):\n",
    "\n",
    "        if price_bins.at[current_bin_index, BinColumns.CONTAINS_BUY_ORDER.column_name] == 1:\n",
    "            # Only one not resolved buy order per bin.\n",
    "            return\n",
    "\n",
    "        potential_profit_in_percents = calculate_profit_in_percents(last_base_last_base_price, current_price)\n",
    "        if potential_profit_in_percents > algorithm_config.min_buy_order_profit_in_percents:\n",
    "            volume = self.determine_buy_order_volume(potential_profit_in_percents,\n",
    "                                                     last_base_score, current_price, algorithm_config)\n",
    "            if volume >= currency_pair.min_target_currency_investment:\n",
    "                new_order = OutstandingBuyOrder(current_price, volume, last_base_last_base_price, current_period_index,\n",
    "                                                current_bin_index)\n",
    "                \n",
    "                self.outstanding_order_manager.orders.append(new_order)\n",
    "    \n",
    "                price_bins.set_value(current_bin_index, BinColumns.CONTAINS_BUY_ORDER.column_name, 1)\n",
    "\n",
    "    def create_sell_order(self, sell_price, sell_volume, buy_order_execution):\n",
    "        new_sell_order = OutstandingSellOrder(sell_price, sell_volume, buy_order_execution)\n",
    "        self.outstanding_order_manager.orders.append(new_sell_order)\n",
    "\n",
    "    def create_sell_orders(self, buy_order_execution, currency_pair, algorithm_config):\n",
    "        base_sell_price = buy_order_execution.order.base_price\n",
    "        volume_to_get_investment_back = buy_order_execution.volume * (buy_order_execution.price / base_sell_price\n",
    "                                                                      + algorithm_config.profit_to_get_back_investment)\n",
    "\n",
    "        if buy_order_execution.volume - volume_to_get_investment_back < currency_pair.min_target_currency_investment:\n",
    "            volume_to_get_investment_back = buy_order_execution.volume\n",
    "        else:\n",
    "            remaining_volume = buy_order_execution.volume - volume_to_get_investment_back\n",
    "            progressive_coefficient = 1\n",
    "            while remaining_volume > 0:\n",
    "                sell_price = base_sell_price * (1 + progressive_coefficient * 0.01)\n",
    "                sell_volume = remaining_volume / 2\n",
    "\n",
    "                if remaining_volume - sell_volume < currency_pair.min_target_currency_investment:\n",
    "                    sell_volume = remaining_volume\n",
    "                    remaining_volume = 0\n",
    "                else:\n",
    "                    remaining_volume -= sell_volume\n",
    "\n",
    "                self.create_sell_order(sell_price, sell_volume, buy_order_execution)\n",
    "\n",
    "                progressive_coefficient *= 2\n",
    "\n",
    "        self.create_sell_order(base_sell_price, volume_to_get_investment_back, buy_order_execution)\n",
    "\n",
    "    def execute_buy_order(self, buy_order, current_price, current_period_index, price_bins, currency_pair,\n",
    "                          algorithm_config):\n",
    "        self.outstanding_order_manager.orders.remove(buy_order)\n",
    "        if buy_order.price < current_price:\n",
    "            # The price is higher than in buy order -> too expensive to buy. The order is being removed.\n",
    "            price_bins.set_value(buy_order.created_on_bin_index, BinColumns.CONTAINS_BUY_ORDER.column_name, 0)\n",
    "\n",
    "        else:\n",
    "            realized_volume = self.wallet.buy(current_price, buy_order.volume)\n",
    "\n",
    "            # DO NOT DELETE\n",
    "            # if realized_volume < buy_order.volume:\n",
    "            #     print('No {} in period {}'.format(self.wallet.currency_pair.base_currency_symbol,\n",
    "            #                                       current_period_index))\n",
    "\n",
    "            buy_order_execution = BuyOrderExecution(buy_order, current_price, realized_volume, current_period_index,\n",
    "                                                    self.wallet.base_currency_amount)\n",
    "            self.trading_history.order_executions.append(buy_order_execution)\n",
    "\n",
    "            self.create_sell_orders(buy_order_execution, currency_pair, algorithm_config)\n",
    "\n",
    "    def execute_sell_order_if_due(self, sell_order, current_price, current_period_index, price_bins):\n",
    "        if sell_order.price > current_price:\n",
    "            # The price is lower than in sell order -> too cheap to sell. The order is not resolved.\n",
    "            return\n",
    "\n",
    "        self.outstanding_order_manager.orders.remove(sell_order)\n",
    "        realized_volume = self.wallet.sell(current_price, sell_order.volume)\n",
    "\n",
    "        sell_order_execution = SellOrderExecution(sell_order, current_price, realized_volume, current_period_index)\n",
    "        self.trading_history.order_executions.append(sell_order_execution)\n",
    "\n",
    "        price_bins.set_value(sell_order.buy_order_execution.order.created_on_bin_index,\n",
    "                             BinColumns.CONTAINS_BUY_ORDER.column_name, 0)\n",
    "\n",
    "    def execute_order_if_due(self, order, current_price, current_period_index, price_bins, currency_pair,\n",
    "                             algorithm_config):\n",
    "        if isinstance(order, OutstandingBuyOrder):\n",
    "            self.execute_buy_order(order, current_price, current_period_index, price_bins, currency_pair,\n",
    "                                   algorithm_config)\n",
    "        else:\n",
    "            self.execute_sell_order_if_due(order, current_price, current_period_index, price_bins)\n",
    "\n",
    "    def execute_due_orders(self, current_price, current_period_index, price_bins, currency_pair, algorithm_config):\n",
    "        [self.execute_order_if_due(order, current_price, current_period_index, price_bins, currency_pair,\n",
    "                                   algorithm_config) for order in self.outstanding_order_manager.orders]\n",
    "\n",
    "    def to_string(self, current_price):\n",
    "        return '\\n{}\\n\\n{}\\n\\n{}'.format(self.trading_history, self.outstanding_order_manager.to_string(current_price),\n",
    "                                         self.wallet.to_string(current_price))\n",
    "\n",
    "\n",
    "class AlgorithmConfig:\n",
    "    def __init__(self, max_base_score, volume_unit_target_currency_to_buy_in_percents,\n",
    "                 multiplication_threshold, min_volume_per_period_threshold,\n",
    "                 max_old_price_bin_count):\n",
    "        self.max_base_score = max_base_score\n",
    "        self.volume_unit_target_currency_to_buy_in_percents = volume_unit_target_currency_to_buy_in_percents\n",
    "        self.multiplication_threshold = multiplication_threshold\n",
    "        self.min_volume_per_period_threshold = min_volume_per_period_threshold\n",
    "        self.max_old_price_bin_count = max_old_price_bin_count\n",
    "        \n",
    "        self.profit_to_get_back_investment = 0.01\n",
    "        self.min_base_score = 0.5\n",
    "        self.previous_and_current_base_keep_coefficient = 2\n",
    "        self.min_buy_order_profit_in_percents = 2\n",
    "        self.max_buy_order_volume_in_wallet_percents = 15\n",
    "        self.initial_base_currency_amount = 100\n",
    "        \n",
    "    def __str__(self):\n",
    "        return '{}={}, {}={}, {}={}, {}={}'.format(\n",
    "            'max_base_score', self.max_base_score,\n",
    "            'volume_unit_target_currency_to_buy_in_percents', self.volume_unit_target_currency_to_buy_in_percents,\n",
    "            'multiplication_threshold', self.multiplication_threshold,\n",
    "            'min_volume_per_period_threshold', self.min_volume_per_period_threshold)\n",
    "\n",
    "\n",
    "def fetch_prices_json(currency_pair, now, oldest_period_offset, period_count, period_size_in_sec):\n",
    "    start_date_time = now - oldest_period_offset * period_size_in_sec\n",
    "    end_date_time = start_date_time + period_count * period_size_in_sec\n",
    "    response = requests.get('https://poloniex.com/public?command=returnChartData', params={\n",
    "        'currencyPair': currency_pair.get_name(),\n",
    "        'start': start_date_time,\n",
    "        'end': end_date_time,\n",
    "        'period': period_size_in_sec\n",
    "    })\n",
    "\n",
    "    print(response.url)\n",
    "\n",
    "    return response.json()\n",
    "\n",
    "\n",
    "def fetch_periods_prices_jsons(currency_pair, old_week_count, new_week_count):\n",
    "    \"\"\"\n",
    "    old = historical data, i.e. can be analyzed together\n",
    "    new = coming data, i.e. only the current period, previous periods and \"old\" periods are known, NOT future periods.\n",
    "    \"\"\"\n",
    "    print('currency_pair={}'.format(currency_pair.get_name()))\n",
    "    \n",
    "    now = time.time()\n",
    "    now_int = int(now)\n",
    "    \n",
    "    period_size_in_sec = 900\n",
    "    one_week_in_periods = 60 * 60 * 24 * 7 / period_size_in_sec\n",
    "    \n",
    "    total_period_count = (old_week_count + new_week_count) * one_week_in_periods\n",
    "    old_oldest_period_offset = total_period_count\n",
    "    old_period_count = old_week_count * one_week_in_periods\n",
    "    new_oldest_period_offset = new_week_count * one_week_in_periods\n",
    "    new_period_count = new_week_count * one_week_in_periods\n",
    "    \n",
    "    # NOTE: old_periods and new_periods intersect probably in one second.\n",
    "    old_periods_json = fetch_prices_json(currency_pair, now_int, old_oldest_period_offset, old_period_count,\n",
    "                                         period_size_in_sec)\n",
    "    new_periods_json = fetch_prices_json(currency_pair, now_int, new_oldest_period_offset, new_period_count,\n",
    "                                         period_size_in_sec)\n",
    "    return old_periods_json, new_periods_json, total_period_count, old_period_count\n",
    "\n",
    "\n",
    "def determine_period_base_price(period_index, periods):\n",
    "    if (periods.at[period_index, PeriodColumns.CLOSE.column_name] >=\n",
    "            periods.at[period_index, PeriodColumns.OPEN.column_name]):\n",
    "        return periods.at[period_index, PeriodColumns.LOW.column_name]\n",
    "    else:\n",
    "        return periods.at[period_index, PeriodColumns.HIGH.column_name]\n",
    "\n",
    "\n",
    "# id_offset in order to render new periods after old ones.\n",
    "def init_periods(periods_json, id_offset=0):\n",
    "    # NOTE: Columns in to_pandas must follow the order in PeriodColumns!!!\n",
    "    # ID prepended automatically perhaps because it is an index column.\n",
    "    # BASE_PRICE and BASE_PRICE_BIN appended.\n",
    "    periods = seq(periods_json).to_pandas([PeriodColumns.LOW.column_name,\n",
    "                                           PeriodColumns.HIGH.column_name,\n",
    "                                           PeriodColumns.OPEN.column_name,\n",
    "                                           PeriodColumns.CLOSE.column_name,\n",
    "                                           PeriodColumns.WEIGHTED_AVERAGE.column_name,\n",
    "                                           PeriodColumns.VOLUME.column_name])\n",
    "\n",
    "    periods_count = len(periods)\n",
    "\n",
    "    # To be able to find for rows by id.\n",
    "    periods[PeriodColumns.ID.column_name] = [i + id_offset for i in range(periods_count)]\n",
    "    periods.set_index(PeriodColumns.ID.column_name, inplace=True)\n",
    "\n",
    "    periods[PeriodColumns.BASE_PRICE.column_name] = [determine_period_base_price(i + id_offset, periods)\n",
    "                                                     for i in range(periods_count)]\n",
    "    return periods\n",
    "\n",
    "\n",
    "def calculate_base_price_bin(period_base_price, price_bin_offset):\n",
    "    return (period_base_price / price_bin_offset).astype('int') - 1\n",
    "\n",
    "\n",
    "def init_old_periods(old_periods_json, max_old_price_bin_count):\n",
    "    now = time.time()\n",
    "    old_periods = init_periods(old_periods_json)\n",
    "    # print('{}={}'.format('elapsed_time of init_periods', time.time() - now))\n",
    "\n",
    "    old_min_price = old_periods[PeriodColumns.LOW.column_name].min()\n",
    "    old_max_price = old_periods[PeriodColumns.HIGH.column_name].max()\n",
    "\n",
    "    # The number of bins is based on the number of covered percentages.\n",
    "    # If max_old_price_bin_count == 100 & old_min_price == 2000 USD & old_max_price == 5000 USD,\n",
    "    # then covered 60% -> old_price_bin_count = 60 bins\n",
    "    old_price_bin_count = ((1 - old_min_price / old_max_price) * max_old_price_bin_count).astype('int')\n",
    "    price_bin_offset = old_max_price / max_old_price_bin_count\n",
    "    # print('{}={}, {}={}'.format('old_price_bin_count', old_price_bin_count, 'price_bin_offset', price_bin_offset))\n",
    "    old_periods[PeriodColumns.BASE_PRICE_BIN.column_name] = calculate_base_price_bin(\n",
    "        old_periods[PeriodColumns.BASE_PRICE.column_name], price_bin_offset)\n",
    "\n",
    "    return old_periods, price_bin_offset\n",
    "\n",
    "\n",
    "def init_price_bins(price_bin_count):\n",
    "    price_bins = pd.DataFrame({\n",
    "        BinColumns.BIN_ID.column_name: range(price_bin_count)\n",
    "    })\n",
    "    price_bins.set_index(BinColumns.BIN_ID.column_name, inplace=True)\n",
    "    price_bins[BinColumns.AGG_VOLUME.column_name] = [0.0 for i in range(price_bin_count)]\n",
    "    price_bins[BinColumns.LAST_PREVIOUS_BIN_ID.column_name] = -10000\n",
    "    \n",
    "    price_bins[BinColumns.OLD_LAST_AGG_VOLUME.column_name] = [-10000.0 for i in range(price_bin_count)]\n",
    "    price_bins[BinColumns.OLD_LAST_MAX_VOLUME.column_name] = [-10000.0 for i in range(price_bin_count)]\n",
    "    price_bins[BinColumns.OLD_LAST_BASE_PRICE.column_name] = [-10000.0 for i in range(price_bin_count)]\n",
    "    price_bins[BinColumns.OLD_ONE_BEFORE_LAST_AGG_VOLUME.column_name] = [-10000.0 for i in range(price_bin_count)]\n",
    "    price_bins[BinColumns.OLD_ONE_BEFORE_LAST_MAX_VOLUME.column_name] = [-10000.0 for i in range(price_bin_count)]\n",
    "    price_bins[BinColumns.OLD_PERIOD_START.column_name] = [-10000 for i in range(price_bin_count)]\n",
    "    price_bins[BinColumns.OLD_PERIOD_END.column_name] = [-10000 for i in range(price_bin_count)]\n",
    "    price_bins[BinColumns.OLD_BASE_SCORE.column_name] = [0.0 for i in range(price_bin_count)]\n",
    "\n",
    "    return price_bins\n",
    "\n",
    "\n",
    "def append_new_price_bin(price_bin_id_to_append, price_bins):\n",
    "    new_price_bin_data = [{\n",
    "        BinColumns.AGG_VOLUME.column_name: 0.0,\n",
    "        BinColumns.LAST_PREVIOUS_BIN_ID.column_name: -10000,\n",
    "\n",
    "        BinColumns.OLD_LAST_AGG_VOLUME.column_name: -10000.0,\n",
    "        BinColumns.OLD_LAST_MAX_VOLUME.column_name: -10000.0,\n",
    "        BinColumns.OLD_LAST_BASE_PRICE.column_name: -10000.0,\n",
    "        BinColumns.OLD_ONE_BEFORE_LAST_AGG_VOLUME.column_name: -10000.0,\n",
    "        BinColumns.OLD_ONE_BEFORE_LAST_MAX_VOLUME.column_name: -10000.0,\n",
    "        BinColumns.OLD_PERIOD_START.column_name: -10000,\n",
    "        BinColumns.OLD_PERIOD_END.column_name: -10000,\n",
    "        BinColumns.OLD_BASE_SCORE.column_name: 0.0,\n",
    "\n",
    "        BinColumns.NEW_LAST_AGG_VOLUME.column_name: -10000.0,\n",
    "        BinColumns.NEW_LAST_MAX_VOLUME.column_name: -10000.0,\n",
    "        BinColumns.NEW_LAST_BASE_PRICE.column_name: -10000.0,\n",
    "        BinColumns.NEW_ONE_BEFORE_LAST_AGG_VOLUME.column_name: -10000.0,\n",
    "        BinColumns.NEW_ONE_BEFORE_LAST_MAX_VOLUME.column_name: -10000.0,\n",
    "        BinColumns.NEW_PERIOD_START.column_name: -10000,\n",
    "        BinColumns.NEW_PERIOD_END.column_name: -10000,\n",
    "        BinColumns.NEW_BASE_SCORE.column_name: 0.0\n",
    "    }]\n",
    "    new_price_bin = pd.DataFrame(new_price_bin_data, index=[price_bin_id_to_append])\n",
    "    # Returns a new pandas with the appended new price bin.\n",
    "    return price_bins.append(new_price_bin)\n",
    "\n",
    "\n",
    "def append_new_price_bins(price_bin_id_to_add, price_bins):\n",
    "    for bin_id in range(price_bins.last_valid_index() + 1, price_bin_id_to_add + 1):\n",
    "        price_bins = append_new_price_bin(bin_id, price_bins)\n",
    "    return price_bins\n",
    "\n",
    "\n",
    "def calculate_base_score(bin_last_max_volume, bin_one_before_last_max_volume, moving_overall_bin_max_volume,\n",
    "                         algorithm_config):\n",
    "    score_basis = bin_last_max_volume / moving_overall_bin_max_volume\n",
    "    if bin_one_before_last_max_volume == 0:\n",
    "        score = score_basis  # No trend known.\n",
    "    else:\n",
    "        score = score_basis * (bin_last_max_volume / bin_one_before_last_max_volume)  # Considers the trend.\n",
    "    return min(score, algorithm_config.max_base_score)"
   ]
  },
  {
   "cell_type": "code",
   "execution_count": 3,
   "metadata": {
    "collapsed": true
   },
   "outputs": [],
   "source": [
    "def update_price_bin_if_bin_change(bin_index, bin_base_price,\n",
    "                                   bin_agg_volume, bin_max_volume,\n",
    "                                   bin_start_period_included, bin_end_period_excluded,\n",
    "                                   previous_bin_index,\n",
    "                                   previous_bin_agg_volume, previous_bin_max_volume,\n",
    "                                   price_bins,\n",
    "                                   algorithm_config, moving_overall_bin_max_volume,\n",
    "                                   base_score_column, last_agg_volume_column,\n",
    "                                   last_base_price_column, last_max_volume_column,\n",
    "                                   one_before_last_agg_volume_column, one_before_last_max_volume_column,\n",
    "                                   period_end_column, period_start_column):\n",
    "    total_bin_agg_volume = bin_agg_volume + price_bins.at[bin_index, BinColumns.AGG_VOLUME.column_name]\n",
    "    price_bins.set_value(bin_index, BinColumns.AGG_VOLUME.column_name, total_bin_agg_volume)\n",
    "    price_bins.set_value(bin_index, BinColumns.LAST_PREVIOUS_BIN_ID.column_name, previous_bin_index)\n",
    "\n",
    "    bin_last_max_volume = price_bins.at[bin_index, last_max_volume_column.column_name]\n",
    "\n",
    "    # If a previous base in this price bin exists.\n",
    "    if bin_last_max_volume >= 0:\n",
    "        price_bins.set_value(bin_index, one_before_last_agg_volume_column.column_name,\n",
    "                             price_bins.at[bin_index, last_agg_volume_column.column_name])\n",
    "        price_bins.set_value(bin_index, one_before_last_max_volume_column.column_name,\n",
    "                             bin_last_max_volume)\n",
    "\n",
    "    bin_mean_volume_per_period = bin_agg_volume / (bin_end_period_excluded - bin_start_period_included)\n",
    "\n",
    "    # If a previous base in this price exists,\n",
    "    # or there is a major different between the previous max volume and this one.\n",
    "    if (bin_last_max_volume >= 0\n",
    "        or (bin_max_volume > algorithm_config.multiplication_threshold * previous_bin_max_volume\n",
    "            and bin_max_volume > algorithm_config.multiplication_threshold * algorithm_config.min_volume_per_period_threshold\n",
    "            and bin_mean_volume_per_period > algorithm_config.min_volume_per_period_threshold)):\n",
    "\n",
    "        moving_overall_bin_max_volume = max(moving_overall_bin_max_volume, bin_max_volume)\n",
    "\n",
    "        if bin_mean_volume_per_period > algorithm_config.min_volume_per_period_threshold:\n",
    "            new_base_score = calculate_base_score(bin_max_volume, bin_last_max_volume, moving_overall_bin_max_volume,\n",
    "                                                  algorithm_config)\n",
    "            if new_base_score >= algorithm_config.min_base_score:\n",
    "                price_bins.set_value(bin_index, base_score_column.column_name, new_base_score)\n",
    "            else:\n",
    "                price_bins.set_value(bin_index, base_score_column.column_name, 0)\n",
    "        else:\n",
    "            price_bins.set_value(bin_index, base_score_column.column_name, 0)\n",
    "\n",
    "        price_bins.set_value(bin_index, last_agg_volume_column.column_name, bin_agg_volume)\n",
    "        price_bins.set_value(bin_index, last_max_volume_column.column_name, bin_max_volume)\n",
    "        price_bins.set_value(bin_index, last_base_price_column.column_name, bin_base_price)\n",
    "\n",
    "    if (bin_max_volume > algorithm_config.multiplication_threshold * previous_bin_max_volume\n",
    "        and bin_max_volume > algorithm_config.multiplication_threshold * algorithm_config.min_volume_per_period_threshold\n",
    "        and bin_mean_volume_per_period > algorithm_config.min_volume_per_period_threshold):\n",
    "\n",
    "        if not (price_bins.at[bin_index, period_start_column.column_name] >= 0):\n",
    "            price_bins.set_value(bin_index, period_start_column.column_name, bin_start_period_included)\n",
    "\n",
    "    if price_bins.at[bin_index, period_start_column.column_name] >= 0:\n",
    "        price_bins.set_value(bin_index, period_end_column.column_name, bin_end_period_excluded)\n",
    "\n",
    "    return moving_overall_bin_max_volume\n"
   ]
  },
  {
   "cell_type": "code",
   "execution_count": 4,
   "metadata": {
    "collapsed": true
   },
   "outputs": [],
   "source": [
    "def update_price_bin_olds_if_bin_change(bin_index, bin_base_price,\n",
    "                                        bin_agg_volume, bin_max_volume,\n",
    "                                        bin_start_period_included, bin_end_period_excluded,\n",
    "                                        previous_bin_index,\n",
    "                                        previous_bin_agg_volume, previous_bin_max_volume,\n",
    "                                        price_bins,\n",
    "                                        algorithm_config, moving_overall_bin_max_volume):\n",
    "    return update_price_bin_if_bin_change(bin_index, bin_base_price,\n",
    "                                          bin_agg_volume, bin_max_volume,\n",
    "                                          bin_start_period_included, bin_end_period_excluded,\n",
    "                                          previous_bin_index,\n",
    "                                          previous_bin_agg_volume, previous_bin_max_volume,\n",
    "                                          price_bins,\n",
    "                                          algorithm_config, moving_overall_bin_max_volume,\n",
    "                                          BinColumns.OLD_BASE_SCORE, BinColumns.OLD_LAST_AGG_VOLUME,\n",
    "                                          BinColumns.OLD_LAST_BASE_PRICE, BinColumns.OLD_LAST_MAX_VOLUME,\n",
    "                                          BinColumns.OLD_ONE_BEFORE_LAST_AGG_VOLUME,\n",
    "                                          BinColumns.OLD_ONE_BEFORE_LAST_MAX_VOLUME,\n",
    "                                          BinColumns.OLD_PERIOD_END, BinColumns.OLD_PERIOD_START)"
   ]
  },
  {
   "cell_type": "code",
   "execution_count": 5,
   "metadata": {
    "collapsed": true
   },
   "outputs": [],
   "source": [
    "def update_price_bin_news_if_bin_change(bin_index, bin_base_price,\n",
    "                                        bin_agg_volume, bin_max_volume,\n",
    "                                        bin_start_period_included, bin_end_period_excluded,\n",
    "                                        previous_bin_index,\n",
    "                                        previous_bin_agg_volume, previous_bin_max_volume,\n",
    "                                        price_bins,\n",
    "                                        algorithm_config, moving_overall_bin_max_volume):\n",
    "    return update_price_bin_if_bin_change(bin_index, bin_base_price,\n",
    "                                          bin_agg_volume, bin_max_volume,\n",
    "                                          bin_start_period_included, bin_end_period_excluded,\n",
    "                                          previous_bin_index,\n",
    "                                          previous_bin_agg_volume, previous_bin_max_volume,\n",
    "                                          price_bins,\n",
    "                                          algorithm_config, moving_overall_bin_max_volume,\n",
    "                                          BinColumns.NEW_BASE_SCORE, BinColumns.NEW_LAST_AGG_VOLUME,\n",
    "                                          BinColumns.NEW_LAST_BASE_PRICE, BinColumns.NEW_LAST_MAX_VOLUME,\n",
    "                                          BinColumns.NEW_ONE_BEFORE_LAST_AGG_VOLUME,\n",
    "                                          BinColumns.NEW_ONE_BEFORE_LAST_MAX_VOLUME,\n",
    "                                          BinColumns.NEW_PERIOD_END, BinColumns.NEW_PERIOD_START)"
   ]
  },
  {
   "cell_type": "code",
   "execution_count": 6,
   "metadata": {
    "collapsed": true
   },
   "outputs": [],
   "source": [
    "def calculate_old_bins_base_score(old_periods, price_bins, algorithm_config, moving_overall_bin_max_volume):\n",
    "    bin_index = -10000\n",
    "    bin_base_price = -10000\n",
    "    bin_agg_volume = -10000\n",
    "    bin_max_volume = -10000\n",
    "    bin_start_period = -10000\n",
    "\n",
    "    previous_bin_index = -10000\n",
    "    previous_bin_agg_volume = -10000\n",
    "    previous_bin_max_volume = -10000\n",
    "\n",
    "    period_index = -10000\n",
    "\n",
    "    for row in old_periods.itertuples():\n",
    "        period_index = row[PeriodColumns.ID.index]\n",
    "        current_volume = row[PeriodColumns.VOLUME.index]\n",
    "        current_bin_index = row[PeriodColumns.BASE_PRICE_BIN.index]\n",
    "\n",
    "        if current_bin_index != bin_index:\n",
    "            # The bin of the current period is a different one that has been being processed.\n",
    "\n",
    "            if bin_index >= 0:\n",
    "                moving_overall_bin_max_volume = update_price_bin_olds_if_bin_change(bin_index, bin_base_price,\n",
    "                                                                                    bin_agg_volume, bin_max_volume,\n",
    "                                                                                    bin_start_period, period_index,\n",
    "                                                                                    previous_bin_index,\n",
    "                                                                                    previous_bin_agg_volume,\n",
    "                                                                                    previous_bin_max_volume,\n",
    "                                                                                    price_bins,\n",
    "                                                                                    algorithm_config,\n",
    "                                                                                    moving_overall_bin_max_volume)\n",
    "\n",
    "                previous_bin_index = bin_index\n",
    "                previous_bin_agg_volume = bin_agg_volume\n",
    "                previous_bin_max_volume = bin_max_volume\n",
    "\n",
    "            bin_index = current_bin_index\n",
    "            bin_base_price = row[PeriodColumns.BASE_PRICE.index]\n",
    "            bin_agg_volume = current_volume\n",
    "            bin_max_volume = current_volume\n",
    "            bin_start_period = period_index\n",
    "\n",
    "        else:\n",
    "            bin_agg_volume += current_volume\n",
    "            bin_max_volume = max(bin_max_volume, current_volume)\n",
    "            if current_volume == bin_max_volume:\n",
    "                bin_base_price = row[PeriodColumns.BASE_PRICE.index]\n",
    "\n",
    "    if bin_index >= 0:\n",
    "        # Bin from the last interaction of the loop above is being updated.\n",
    "        moving_overall_bin_max_volume = update_price_bin_olds_if_bin_change(bin_index, bin_base_price,\n",
    "                                                                            bin_agg_volume, bin_max_volume,\n",
    "                                                                            bin_start_period, period_index + 1,\n",
    "                                                                            previous_bin_index,\n",
    "                                                                            previous_bin_agg_volume,\n",
    "                                                                            previous_bin_max_volume,\n",
    "                                                                            price_bins,\n",
    "                                                                            algorithm_config,\n",
    "                                                                            moving_overall_bin_max_volume)\n",
    "\n",
    "    return price_bins, moving_overall_bin_max_volume\n"
   ]
  },
  {
   "cell_type": "code",
   "execution_count": 7,
   "metadata": {
    "collapsed": true
   },
   "outputs": [],
   "source": [
    "def extract_base_relevant_values_from_bin(bin_index, price_bins):\n",
    "    base_score = price_bins.at[bin_index, BinColumns.OLD_BASE_SCORE.column_name]\n",
    "    last_base_price = price_bins.at[bin_index, BinColumns.OLD_LAST_BASE_PRICE.column_name]\n",
    "    return bin_index, base_score, last_base_price\n"
   ]
  },
  {
   "cell_type": "code",
   "execution_count": 8,
   "metadata": {
    "collapsed": true
   },
   "outputs": [],
   "source": [
    "def calculate_new_bins_base_score_and_invest(new_periods, exchange_platform,\n",
    "                                             price_bin_offset, old_periods,\n",
    "                                             price_bins,\n",
    "                                             algorithm_config, moving_overall_bin_max_volume,\n",
    "                                             currency_pair):\n",
    "    \n",
    "    price_bins[BinColumns.CONTAINS_BUY_ORDER.column_name] = [0 for i in range(len(price_bins))]\n",
    "\n",
    "    # Copies values from OLD_ columns to NEW_ columns in order to keep the context, \n",
    "    price_bins[BinColumns.NEW_LAST_AGG_VOLUME.column_name] = price_bins[BinColumns.OLD_LAST_AGG_VOLUME.column_name]\n",
    "    price_bins[BinColumns.NEW_LAST_MAX_VOLUME.column_name] = price_bins[BinColumns.OLD_LAST_MAX_VOLUME.column_name]\n",
    "    price_bins[BinColumns.NEW_LAST_BASE_PRICE.column_name] = price_bins[BinColumns.OLD_LAST_BASE_PRICE.column_name]\n",
    "    price_bins[BinColumns.NEW_ONE_BEFORE_LAST_AGG_VOLUME.column_name] = price_bins[\n",
    "        BinColumns.OLD_ONE_BEFORE_LAST_AGG_VOLUME.column_name]\n",
    "    price_bins[BinColumns.NEW_ONE_BEFORE_LAST_MAX_VOLUME.column_name] = price_bins[\n",
    "        BinColumns.OLD_ONE_BEFORE_LAST_MAX_VOLUME.column_name]\n",
    "    price_bins[BinColumns.NEW_PERIOD_START.column_name] = price_bins[BinColumns.OLD_PERIOD_START.column_name]\n",
    "    price_bins[BinColumns.NEW_PERIOD_END.column_name] = price_bins[BinColumns.OLD_PERIOD_END.column_name]\n",
    "    price_bins[BinColumns.NEW_BASE_SCORE.column_name] = price_bins[BinColumns.OLD_BASE_SCORE.column_name]\n",
    "\n",
    "    # Retrieves data about the last OLD bin.\n",
    "    bin_index = old_periods[PeriodColumns.BASE_PRICE_BIN.column_name].iloc[-1]\n",
    "    bin_base_price = price_bins.at[bin_index, BinColumns.OLD_LAST_BASE_PRICE.column_name]\n",
    "    bin_agg_volume = price_bins.at[bin_index, BinColumns.OLD_LAST_AGG_VOLUME.column_name]\n",
    "    bin_max_volume = price_bins.at[bin_index, BinColumns.OLD_LAST_MAX_VOLUME.column_name]\n",
    "    bin_start_period = price_bins.at[bin_index, BinColumns.OLD_PERIOD_START.column_name]\n",
    "\n",
    "    # Retrieves data about the one before last OLD bin.\n",
    "    previous_bin_index = price_bins.at[bin_index, BinColumns.LAST_PREVIOUS_BIN_ID.column_name]\n",
    "    previous_bin_agg_volume = price_bins.at[previous_bin_index, BinColumns.OLD_LAST_AGG_VOLUME.column_name]\\\n",
    "        if previous_bin_index >= 0 else 0\n",
    "    previous_bin_max_volume = price_bins.at[previous_bin_index, BinColumns.OLD_LAST_MAX_VOLUME.column_name]\\\n",
    "        if previous_bin_index >= 0 else 0\n",
    "\n",
    "    # Information about the most recent strongest base if any in the last bins.\n",
    "    last_base_bin_index = -10000\n",
    "    last_base_score = -10000\n",
    "    last_base_last_base_price = -10000\n",
    "    if price_bins.at[bin_index, BinColumns.OLD_BASE_SCORE.column_name] > 0:\n",
    "        (last_base_bin_index,\n",
    "         last_base_score,\n",
    "         last_base_last_base_price) = extract_base_relevant_values_from_bin(bin_index, price_bins)\n",
    "    elif previous_bin_index >= 0 and price_bins.at[previous_bin_index, BinColumns.OLD_BASE_SCORE.column_name] > 0:\n",
    "        (last_base_bin_index,\n",
    "         last_base_score,\n",
    "         last_base_last_base_price) = extract_base_relevant_values_from_bin(previous_bin_index, price_bins)\n",
    "\n",
    "    period_index = -10000\n",
    "    current_weighted_average = -10000\n",
    "\n",
    "    for row in new_periods.itertuples():\n",
    "        period_index = row[PeriodColumns.ID.index]\n",
    "        current_volume = row[PeriodColumns.VOLUME.index]\n",
    "        current_base_price = row[PeriodColumns.BASE_PRICE.index]\n",
    "        current_bin_index = calculate_base_price_bin(current_base_price, price_bin_offset)\n",
    "        price_bins = append_new_price_bins(current_bin_index, price_bins)\n",
    "\n",
    "        if current_bin_index != bin_index:\n",
    "            # The bin of the current period is a different one that has been being processed.\n",
    "\n",
    "            if bin_index >= 0:\n",
    "                moving_overall_bin_max_volume = update_price_bin_news_if_bin_change(bin_index, bin_base_price,\n",
    "                                                                                    bin_agg_volume, bin_max_volume,\n",
    "                                                                                    bin_start_period, period_index,\n",
    "                                                                                    previous_bin_index,\n",
    "                                                                                    previous_bin_agg_volume,\n",
    "                                                                                    previous_bin_max_volume,\n",
    "                                                                                    price_bins,\n",
    "                                                                                    algorithm_config,\n",
    "                                                                                    moving_overall_bin_max_volume)\n",
    "\n",
    "                bin_base_score = price_bins.at[bin_index, BinColumns.NEW_BASE_SCORE.column_name]\n",
    "                # The remembered base changes to the most recent one if this is strong enough.\n",
    "                \n",
    "                if bin_base_score > last_base_score / algorithm_config.previous_and_current_base_keep_coefficient\\\n",
    "                        or not (price_bins.at[last_base_bin_index, BinColumns.NEW_BASE_SCORE.column_name] > 0):\n",
    "                    last_base_bin_index = bin_index\n",
    "                    last_base_score = bin_base_score\n",
    "                    last_base_last_base_price = bin_base_price\n",
    "\n",
    "                previous_bin_agg_volume = bin_agg_volume\n",
    "                previous_bin_max_volume = bin_max_volume\n",
    "\n",
    "            bin_index = current_bin_index\n",
    "            bin_base_price = current_base_price\n",
    "            bin_agg_volume = current_volume\n",
    "            bin_max_volume = current_volume\n",
    "            bin_start_period = period_index\n",
    "\n",
    "        else:\n",
    "            bin_agg_volume += current_volume\n",
    "            bin_max_volume = max(bin_max_volume, current_volume)\n",
    "            if current_volume == bin_max_volume:\n",
    "                bin_base_price = current_base_price\n",
    "\n",
    "        current_weighted_average = row[PeriodColumns.WEIGHTED_AVERAGE.index]\n",
    "\n",
    "        exchange_platform.create_buy_order_if_wanted(period_index, current_weighted_average, last_base_score,\n",
    "                                                     last_base_last_base_price, current_bin_index, price_bins,\n",
    "                                                     currency_pair, algorithm_config)\n",
    "        exchange_platform.execute_due_orders(current_weighted_average, period_index, price_bins, currency_pair,\n",
    "                                             algorithm_config)\n",
    "\n",
    "    if bin_index >= 0:\n",
    "        # Bin from the last interaction of the loop above is being updated.\n",
    "        moving_overall_bin_max_volume = update_price_bin_news_if_bin_change(bin_index, bin_base_price,\n",
    "                                                                            bin_agg_volume, bin_max_volume,\n",
    "                                                                            bin_start_period, period_index + 1,\n",
    "                                                                            previous_bin_index,\n",
    "                                                                            previous_bin_agg_volume,\n",
    "                                                                            previous_bin_max_volume,\n",
    "                                                                            price_bins,\n",
    "                                                                            algorithm_config,\n",
    "                                                                            moving_overall_bin_max_volume)\n",
    "\n",
    "    exchange_platform.execute_due_orders(current_weighted_average, period_index, price_bins, currency_pair,\n",
    "                                         algorithm_config)\n",
    "\n",
    "    return price_bins, moving_overall_bin_max_volume"
   ]
  },
  {
   "cell_type": "code",
   "execution_count": 9,
   "metadata": {
    "collapsed": true
   },
   "outputs": [],
   "source": [
    "def evaluate_algorithm(old_periods, price_bin_offset, new_periods_json, old_period_count, currency_pair,\n",
    "                       algorithm_config):\n",
    "    now = time.time()\n",
    "    \n",
    "    if trading_fee_decimal > algorithm_config.profit_to_get_back_investment:\n",
    "        print('ERROR: {} ({}) > {} ({}). Must be the other way around in order to'\n",
    "              ' get the initial investment back ASAP'.format('trading_fee_decimal', trading_fee_decimal,\n",
    "                                                             'profit_to_get_back_investment',\n",
    "                                                             algorithm_config.profit_to_get_back_investment))\n",
    "    \n",
    "    price_bins = init_price_bins(algorithm_config.max_old_price_bin_count)\n",
    "    \n",
    "    moving_overall_bin_max_volume = 0\n",
    "    price_bins, moving_overall_bin_max_volume = calculate_old_bins_base_score(old_periods,\n",
    "                                                                              price_bins,\n",
    "                                                                              algorithm_config,\n",
    "                                                                              moving_overall_bin_max_volume)\n",
    "    \n",
    "    new_periods = init_periods(new_periods_json, old_period_count)\n",
    "    \n",
    "    exchange_platform = ExchangePlatform(currency_pair)\n",
    "    exchange_platform.deposit(algorithm_config.initial_base_currency_amount)\n",
    "    price_bins, moving_overall_bin_max_volume = calculate_new_bins_base_score_and_invest(new_periods,\n",
    "                                                                                         exchange_platform,\n",
    "                                                                                         price_bin_offset,\n",
    "                                                                                         old_periods,\n",
    "                                                                                         price_bins,\n",
    "                                                                                         algorithm_config,\n",
    "                                                                                         moving_overall_bin_max_volume,\n",
    "                                                                                         currency_pair)\n",
    "    \n",
    "    print('{}={}'.format('elapsed_time of evaluate_algorithm', time.time() - now))\n",
    "    \n",
    "    return new_periods, exchange_platform, price_bins, moving_overall_bin_max_volume"
   ]
  },
  {
   "cell_type": "code",
   "execution_count": 10,
   "metadata": {
    "collapsed": true
   },
   "outputs": [],
   "source": [
    "def draw_base_if_exists(price_bin, plt,\n",
    "                        base_score_column, last_base_price_column, period_start_column, period_end_column,\n",
    "                        drawing_period_count_offset=0):\n",
    "    if price_bin[base_score_column.column_name] > 0:\n",
    "        current_base_price = price_bin[last_base_price_column.column_name]\n",
    "        line_width = (price_bin[base_score_column.column_name] / 0.3).astype('int') + 1\n",
    "\n",
    "        # start is included, end is excluded\n",
    "        plt.plot([price_bin[period_start_column.column_name] - drawing_period_count_offset,\n",
    "                  price_bin[period_end_column.column_name] - 1 + drawing_period_count_offset],\n",
    "                 [current_base_price, current_base_price],\n",
    "                 color='purple', linewidth=line_width, label=current_base_price)\n",
    "\n",
    "\n",
    "def draw_graph(old_periods, new_periods, total_period_count, old_new_border_period, exchange_platform, price_bins):\n",
    "    plt.rcParams['figure.figsize'] = (50, 25)\n",
    "\n",
    "    plt.plot(old_periods[PeriodColumns.WEIGHTED_AVERAGE.column_name])\n",
    "    plt.plot(new_periods[PeriodColumns.WEIGHTED_AVERAGE.column_name])\n",
    "    plt.plot([old_new_border_period, old_new_border_period],\n",
    "             plt.gca().get_ylim(),\n",
    "             color='grey')\n",
    "\n",
    "    for index, row in price_bins.iterrows():\n",
    "        draw_base_if_exists(row, plt, BinColumns.OLD_BASE_SCORE, BinColumns.OLD_LAST_BASE_PRICE,\n",
    "                            BinColumns.OLD_PERIOD_START, BinColumns.OLD_PERIOD_END)\n",
    "        draw_base_if_exists(row, plt, BinColumns.NEW_BASE_SCORE, BinColumns.NEW_LAST_BASE_PRICE,\n",
    "                            BinColumns.NEW_PERIOD_START, BinColumns.NEW_PERIOD_END)\n",
    "\n",
    "    [order_execution.draw(plt) for order_execution in exchange_platform.trading_history.order_executions]\n",
    "    [order.draw(plt, total_period_count=total_period_count) for order\n",
    "     in exchange_platform.outstanding_order_manager.orders]\n",
    "\n",
    "    plt.grid()\n",
    "    plt.show()\n",
    "\n",
    "\n",
    "def print_bins_result_debug_info(price_bins):\n",
    "    print('\\nPRICE BINS - OLD:')\n",
    "    for index, row in price_bins.iterrows():\n",
    "        if row[BinColumns.OLD_BASE_SCORE.column_name] > 0 and row[BinColumns.NEW_BASE_SCORE.column_name] == 0:\n",
    "            print(\n",
    "                '{}={:3.0f}, {}={:10.0f}, {}={:6.2f}, {}={:6.2f}, {}={:8.2f}, {}={:8.2f}, {}={:.2f}, {}={:.2f}'\n",
    "                .format(\n",
    "                    'bin', index,\n",
    "                    'aggVol', row[BinColumns.AGG_VOLUME.column_name],\n",
    "                    'oPrc', row[BinColumns.OLD_LAST_BASE_PRICE.column_name],\n",
    "                    'nPrc', row[BinColumns.NEW_LAST_BASE_PRICE.column_name],\n",
    "                    'oMaxVol', row[BinColumns.OLD_LAST_MAX_VOLUME.column_name],\n",
    "                    'nMaxVol', row[BinColumns.NEW_LAST_MAX_VOLUME.column_name],\n",
    "                    'oScr', row[BinColumns.OLD_BASE_SCORE.column_name],\n",
    "                    'nScr', row[BinColumns.NEW_BASE_SCORE.column_name]))\n",
    "\n",
    "    print('\\nPRICE BINS - NEW:')\n",
    "    for index, row in price_bins.iterrows():\n",
    "        if row[BinColumns.NEW_BASE_SCORE.column_name] > 0:\n",
    "            print(\n",
    "                '{}={:3.0f}, {}={:10.0f}, {}={:6.2f}, {}={:6.2f}, {}={:8.2f}, {}={:8.2f}, {}={:.2f}, {}={:.2f}'\n",
    "                .format(\n",
    "                    'bin', index,\n",
    "                    'aggVol', row[BinColumns.AGG_VOLUME.column_name],\n",
    "                    'oPrc', row[BinColumns.OLD_LAST_BASE_PRICE.column_name],\n",
    "                    'nPrc', row[BinColumns.NEW_LAST_BASE_PRICE.column_name],\n",
    "                    'oMaxVol', row[BinColumns.OLD_LAST_MAX_VOLUME.column_name],\n",
    "                    'nMaxVol', row[BinColumns.NEW_LAST_MAX_VOLUME.column_name],\n",
    "                    'oScr', row[BinColumns.OLD_BASE_SCORE.column_name],\n",
    "                    'nScr', row[BinColumns.NEW_BASE_SCORE.column_name]))\n",
    "\n",
    "\n",
    "def get_current_price(new_periods):\n",
    "    return new_periods[PeriodColumns.CLOSE.column_name].iloc[-1]\n",
    "\n",
    "\n",
    "def print_verbose_result_with_graph(old_periods, new_periods, total_period_count, old_period_count,\n",
    "                                    exchange_platform, price_bins, moving_overall_bin_max_volume):\n",
    "    now = time.time()\n",
    "\n",
    "    draw_graph(old_periods, new_periods, total_period_count, old_period_count, exchange_platform, price_bins)\n",
    "\n",
    "    print('{}={:9.0f}'.format('moving_overall_bin_max_volume', moving_overall_bin_max_volume))\n",
    "    print_bins_result_debug_info(price_bins)\n",
    "\n",
    "    current_price = get_current_price(new_periods)\n",
    "    print(exchange_platform.to_string(current_price))\n",
    "\n",
    "    print('{}={}'.format('elapsed_time of print_verbose_result_with_graph', time.time() - now))\n",
    "\n",
    "\n",
    "def print_wallet(exchange_platform, new_periods):\n",
    "    current_price = get_current_price(new_periods)\n",
    "    print('{}\\n'.format(exchange_platform.wallet.to_string(current_price)))"
   ]
  },
  {
   "cell_type": "code",
   "execution_count": 86,
   "metadata": {
    "collapsed": true
   },
   "outputs": [],
   "source": [
    "class CurrencyPairEvaluator:\n",
    "    def __init__(self, currency_pair):\n",
    "        self.currency_pair = currency_pair\n",
    "        self.result_list = []\n",
    "        \n",
    "    @staticmethod\n",
    "    def calculate_profit(balance, investment):\n",
    "        one_percent = investment / 100\n",
    "        return (balance - investment) / one_percent\n",
    "\n",
    "    def create_config_and_evaluate_algorithm(self, max_base_score, volume_unit_target_currency_to_buy_in_percents,\n",
    "                                             old_periods_json, new_periods_json, old_period_count):\n",
    "        max_old_price_bin_count = 200\n",
    "        old_periods, price_bin_offset = init_old_periods(old_periods_json, max_old_price_bin_count)\n",
    "\n",
    "        median_volume = old_periods[PeriodColumns.VOLUME.column_name].median()\n",
    "        mean_volume = old_periods[PeriodColumns.VOLUME.column_name].mean()\n",
    "        multiplication_threshold = 2 * mean_volume / median_volume\n",
    "        min_volume_per_period_threshold = mean_volume\n",
    "        algorithm_config = AlgorithmConfig(max_base_score, volume_unit_target_currency_to_buy_in_percents,\n",
    "                                           multiplication_threshold, min_volume_per_period_threshold,\n",
    "                                           max_old_price_bin_count)\n",
    "        print(algorithm_config)\n",
    "\n",
    "        new_periods, exchange_platform, price_bins, moving_overall_bin_max_volume = evaluate_algorithm(\n",
    "            old_periods, price_bin_offset, new_periods_json, old_period_count, self.currency_pair, algorithm_config)\n",
    "\n",
    "        # print_verbose_result_with_graph(old_periods, new_periods, total_period_count, old_period_count,\n",
    "        #                                 exchange_platform, price_bins, moving_overall_bin_max_volume)\n",
    "        print_wallet(exchange_platform, new_periods)\n",
    "\n",
    "        current_price = get_current_price(new_periods)\n",
    "        target_coin_price_devaluated = current_price * 0.8\n",
    "        wallet_value_in_base_currency = exchange_platform.wallet.get_total_in_base_currency(target_coin_price_devaluated)\n",
    "        profit_in_percents = self.calculate_profit(wallet_value_in_base_currency, algorithm_config.initial_base_currency_amount)\n",
    "\n",
    "        return max_base_score, volume_unit_target_currency_to_buy_in_percents, profit_in_percents\n",
    "\n",
    "    def process_result(self, score_volume_profit_tuple):\n",
    "        # This is called whenever create_config_and_evaluate_algorithm(..) returns a result.\n",
    "        # result_list is modified only by the main process, not by the pool workers.\n",
    "        self.result_list.append(score_volume_profit_tuple)\n",
    "        \n",
    "    @staticmethod\n",
    "    def handle_error(error):\n",
    "        print('ERROR={}'.format(error))\n",
    "        \n",
    "    def evaluate(self, new_week_count):\n",
    "        self.result_list = []\n",
    "        old_periods_json, new_periods_json, total_period_count, old_period_count = fetch_periods_prices_jsons(\n",
    "            currency_pair, old_week_count, new_week_count)\n",
    "\n",
    "        pool = Pool(processes=7)\n",
    "        for max_base_score_param in np.linspace(0.8, 4, num=10):  # min .8, max 3 (to avoid extremes)\n",
    "            for volume_unit_target_currency_to_buy_in_percents_param in np.linspace(5, 5, num=1):  # max 5 (to avoid extremes)\n",
    "                pool.apply_async(func=self.create_config_and_evaluate_algorithm,\n",
    "                                 args=(max_base_score_param,\n",
    "                                       volume_unit_target_currency_to_buy_in_percents_param,\n",
    "                                       old_periods_json, new_periods_json, old_period_count),\n",
    "                                 callback=self.process_result,\n",
    "                                 error_callback=self.handle_error)\n",
    "\n",
    "        pool.close()\n",
    "        pool.join()\n",
    "        return self.result_list\n",
    "\n",
    "    def evaluate_one_time_frame_and_draw(self, new_week_count):\n",
    "        print('\\nevaluate_one_time_frame_and_draw [thread={}]\\n'.format(threading.current_thread()))\n",
    "        \n",
    "        result_list_param = self.evaluate(new_week_count)\n",
    "        graph_thread = self.draw_profit_graph_in_new_thread(result_list_param)\n",
    "        return result_list_param, graph_thread\n",
    "    \n",
    "    def evaluate_one_time_frame_and_draw_and_close(self, new_week_count):\n",
    "        result_list_param, graph_thread = self.evaluate_one_time_frame_and_draw(new_week_count)\n",
    "        graph_thread.join()\n",
    "        \n",
    "    def evaluate_multiple_time_frames_and_draw(self, new_week_counts):\n",
    "        print('\\nevaluate_multiple_time_frames_and_draw [thread={}]\\n'.format(threading.current_thread()))\n",
    "        \n",
    "        max_new_week_count = max(new_week_counts)\n",
    "        result_dict = {}\n",
    "        graph_threads = []\n",
    "        for new_week_count in new_week_counts:\n",
    "            result_list_param = self.evaluate(new_week_count)\n",
    "            result_dict.update({new_week_count: result_list_param})\n",
    "        \n",
    "        aggregated_result_list = self.aggregate_result_lists(result_dict, max_new_week_count)\n",
    "        graph_thread = self.draw_profit_graph_in_new_thread(aggregated_result_list)\n",
    "        graph_threads.append(graph_thread)\n",
    "        \n",
    "        [graph_thread.join() for graph_thread in graph_threads]\n",
    "        \n",
    "    def draw_profit_graph_in_new_thread(self, result_list_param):\n",
    "        # Comma in args necessary in order to pass result_list_param as a list, not \"unbox\" it and pass it as a tuple.\n",
    "        graph_thread = threading.Thread(target=self.draw_profit_graph, args=(result_list_param,))\n",
    "        graph_thread.start()\n",
    "        return graph_thread\n",
    "        \n",
    "    @staticmethod\n",
    "    def draw_profit_graph(result_list_param):\n",
    "        print('\\ndraw_profit_graph [thread={}]\\n'.format(threading.current_thread()))\n",
    "        \n",
    "        max_base_score_list = [i[0] for i in result_list_param]\n",
    "        volume_unit_target_currency_to_buy_in_percents_list = [i[1] for i in result_list_param]\n",
    "        profit_in_percents_list = [i[2] for i in result_list_param]\n",
    "    \n",
    "        fig = plt.figure()\n",
    "        ax = fig.add_subplot(111, projection='3d')\n",
    "        ax.scatter(max_base_score_list, volume_unit_target_currency_to_buy_in_percents_list,\n",
    "                   profit_in_percents_list, marker='o', s=40)\n",
    "        ax.set_xlabel('max_base_score')\n",
    "        ax.set_ylabel('volume_unit_target_currency_to_buy [%]')\n",
    "        ax.set_zlabel('profit [%]')\n",
    "        plt.show()\n",
    "        \n",
    "    @staticmethod\n",
    "    def aggregate_result_lists(input_result_dict, max_new_week_count):\n",
    "        \n",
    "        temp_score_volume_profit_dict = {}\n",
    "        for new_week_count, score_volume_profit_tuples in input_result_dict.items():\n",
    "            for score_volume_profit_tuple in score_volume_profit_tuples:\n",
    "                multiplication_coefficient = max_new_week_count / new_week_count\n",
    "                current_score_string = score_volume_profit_tuple[0]\n",
    "                temp_volume_profit_dict = temp_score_volume_profit_dict.setdefault(current_score_string, {})\n",
    "                \n",
    "                current_volume_string = score_volume_profit_tuple[1]\n",
    "                existing_profit = temp_volume_profit_dict.setdefault(current_volume_string, 0.0)\n",
    "                \n",
    "                current_profit = score_volume_profit_tuple[2]\n",
    "                temp_volume_profit_dict.update({current_volume_string: existing_profit + multiplication_coefficient * current_profit})\n",
    "        \n",
    "        result_list = []\n",
    "        for score, volume_profit_dict in temp_score_volume_profit_dict.items():\n",
    "            for volume, profit in volume_profit_dict.items():\n",
    "                result_list.append((score, volume, profit))\n",
    "        return result_list"
   ]
  },
  {
   "cell_type": "code",
   "execution_count": 87,
   "metadata": {
    "collapsed": true
   },
   "outputs": [
    {
     "name": "stdout",
     "output_type": "stream",
     "text": [
      "\nevaluate_multiple_time_frames_and_draw [thread=<_MainThread(MainThread, started 140553302640384)>]\n\n\nevaluate_one_time_frame_and_draw [thread=<_MainThread(MainThread, started 140553302640384)>]\n\ncurrency_pair=USDT_ETH\n"
     ]
    },
    {
     "name": "stdout",
     "output_type": "stream",
     "text": [
      "https://poloniex.com/public?command=returnChartData&period=900&currencyPair=USDT_ETH&end=1503833427.0&start=1498995027.0\n"
     ]
    },
    {
     "name": "stdout",
     "output_type": "stream",
     "text": [
      "https://poloniex.com/public?command=returnChartData&period=900&currencyPair=USDT_ETH&end=1506857427.0&start=1503833427.0\n"
     ]
    },
    {
     "name": "stdout",
     "output_type": "stream",
     "text": [
      "max_base_score=2.577777777777778, volume_unit_target_currency_to_buy_in_percents=5.0, multiplication_threshold=3.7542216831113877, min_volume_per_period_threshold=236314.93721936838\n"
     ]
    },
    {
     "name": "stdout",
     "output_type": "stream",
     "text": [
      "max_base_score=2.2222222222222223, volume_unit_target_currency_to_buy_in_percents=5.0, multiplication_threshold=3.7542216831113877, min_volume_per_period_threshold=236314.93721936838\n"
     ]
    },
    {
     "name": "stdout",
     "output_type": "stream",
     "text": [
      "max_base_score=0.8, volume_unit_target_currency_to_buy_in_percents=5.0, multiplication_threshold=3.7542216831113877, min_volume_per_period_threshold=236314.93721936838\n"
     ]
    },
    {
     "name": "stdout",
     "output_type": "stream",
     "text": [
      "max_base_score=1.511111111111111, volume_unit_target_currency_to_buy_in_percents=5.0, multiplication_threshold=3.7542216831113877, min_volume_per_period_threshold=236314.93721936838\n"
     ]
    },
    {
     "name": "stdout",
     "output_type": "stream",
     "text": [
      "max_base_score=1.1555555555555557, volume_unit_target_currency_to_buy_in_percents=5.0, multiplication_threshold=3.7542216831113877, min_volume_per_period_threshold=236314.93721936838\n"
     ]
    },
    {
     "name": "stdout",
     "output_type": "stream",
     "text": [
      "max_base_score=1.8666666666666667, volume_unit_target_currency_to_buy_in_percents=5.0, multiplication_threshold=3.7542216831113877, min_volume_per_period_threshold=236314.93721936838\n"
     ]
    },
    {
     "name": "stdout",
     "output_type": "stream",
     "text": [
      "max_base_score=2.9333333333333336, volume_unit_target_currency_to_buy_in_percents=5.0, multiplication_threshold=3.7542216831113877, min_volume_per_period_threshold=236314.93721936838\n"
     ]
    },
    {
     "name": "stdout",
     "output_type": "stream",
     "text": [
      "elapsed_time of evaluate_algorithm=4.717109203338623\n"
     ]
    },
    {
     "name": "stdout",
     "output_type": "stream",
     "text": [
      "WALLET: USDT  112.1213, ETH    0.0053 => in total USDT  113.7261, spent on fees USDT    1.1756\n"
     ]
    },
    {
     "name": "stdout",
     "output_type": "stream",
     "text": [
      "\n"
     ]
    },
    {
     "name": "stdout",
     "output_type": "stream",
     "text": [
      "elapsed_time of evaluate_algorithm=4.852145671844482\n"
     ]
    },
    {
     "name": "stdout",
     "output_type": "stream",
     "text": [
      "WALLET: USDT  112.0055, ETH    0.0053 => in total USDT  113.6017, spent on fees USDT    1.1614\n"
     ]
    },
    {
     "name": "stdout",
     "output_type": "stream",
     "text": [
      "\n"
     ]
    },
    {
     "name": "stdout",
     "output_type": "stream",
     "text": [
      "max_base_score=3.2888888888888888, volume_unit_target_currency_to_buy_in_percents=5.0, multiplication_threshold=3.7542216831113877, min_volume_per_period_threshold=236314.93721936838\n"
     ]
    },
    {
     "name": "stdout",
     "output_type": "stream",
     "text": [
      "max_base_score=3.644444444444445, volume_unit_target_currency_to_buy_in_percents=5.0, multiplication_threshold=3.7542216831113877, min_volume_per_period_threshold=236314.93721936838\n"
     ]
    },
    {
     "name": "stdout",
     "output_type": "stream",
     "text": [
      "elapsed_time of evaluate_algorithm=5.270177125930786\n"
     ]
    },
    {
     "name": "stdout",
     "output_type": "stream",
     "text": [
      "WALLET: USDT  112.2032, ETH    0.0054 => in total USDT  113.8141, spent on fees USDT    1.1859\n"
     ]
    },
    {
     "name": "stdout",
     "output_type": "stream",
     "text": [
      "\n"
     ]
    },
    {
     "name": "stdout",
     "output_type": "stream",
     "text": [
      "elapsed_time of evaluate_algorithm=5.395122051239014\n"
     ]
    },
    {
     "name": "stdout",
     "output_type": "stream",
     "text": [
      "WALLET: USDT  112.6164, ETH    0.0047 => in total USDT  114.0343, spent on fees USDT    1.1820\n"
     ]
    },
    {
     "name": "stdout",
     "output_type": "stream",
     "text": [
      "\n"
     ]
    },
    {
     "name": "stdout",
     "output_type": "stream",
     "text": [
      "elapsed_time of evaluate_algorithm=5.4622437953948975\n"
     ]
    },
    {
     "name": "stdout",
     "output_type": "stream",
     "text": [
      "WALLET: USDT  112.9920, ETH    0.0029 => in total USDT  113.8792, spent on fees USDT    1.1258\n"
     ]
    },
    {
     "name": "stdout",
     "output_type": "stream",
     "text": [
      "\n"
     ]
    },
    {
     "name": "stdout",
     "output_type": "stream",
     "text": [
      "max_base_score=4.0, volume_unit_target_currency_to_buy_in_percents=5.0, multiplication_threshold=3.7542216831113877, min_volume_per_period_threshold=236314.93721936838\n"
     ]
    },
    {
     "name": "stdout",
     "output_type": "stream",
     "text": [
      "elapsed_time of evaluate_algorithm=5.591028928756714\n"
     ]
    },
    {
     "name": "stdout",
     "output_type": "stream",
     "text": [
      "WALLET: USDT  112.4076, ETH    0.0059 => in total USDT  114.1774, spent on fees USDT    1.1972\n"
     ]
    },
    {
     "name": "stdout",
     "output_type": "stream",
     "text": [
      "\n"
     ]
    },
    {
     "name": "stdout",
     "output_type": "stream",
     "text": [
      "elapsed_time of evaluate_algorithm=5.723293304443359\n"
     ]
    },
    {
     "name": "stdout",
     "output_type": "stream",
     "text": [
      "WALLET: USDT  112.6579, ETH    0.0054 => in total USDT  114.2849, spent on fees USDT    1.2118\n"
     ]
    },
    {
     "name": "stdout",
     "output_type": "stream",
     "text": [
      "\n"
     ]
    },
    {
     "name": "stdout",
     "output_type": "stream",
     "text": [
      "elapsed_time of evaluate_algorithm=3.526763916015625\n"
     ]
    },
    {
     "name": "stdout",
     "output_type": "stream",
     "text": [
      "WALLET: USDT  112.2473, ETH    0.0054 => in total USDT  113.8622, spent on fees USDT    1.1926\n"
     ]
    },
    {
     "name": "stdout",
     "output_type": "stream",
     "text": [
      "\n"
     ]
    },
    {
     "name": "stdout",
     "output_type": "stream",
     "text": [
      "elapsed_time of evaluate_algorithm=3.747896671295166\n"
     ]
    },
    {
     "name": "stdout",
     "output_type": "stream",
     "text": [
      "WALLET: USDT  112.2252, ETH    0.0054 => in total USDT  113.8381, spent on fees USDT    1.1892\n"
     ]
    },
    {
     "name": "stdout",
     "output_type": "stream",
     "text": [
      "\n"
     ]
    },
    {
     "name": "stdout",
     "output_type": "stream",
     "text": [
      "elapsed_time of evaluate_algorithm=3.3826756477355957\n"
     ]
    },
    {
     "name": "stdout",
     "output_type": "stream",
     "text": [
      "WALLET: USDT  112.2693, ETH    0.0054 => in total USDT  113.8862, spent on fees USDT    1.1959\n"
     ]
    },
    {
     "name": "stdout",
     "output_type": "stream",
     "text": [
      "\n"
     ]
    },
    {
     "name": "stdout",
     "output_type": "stream",
     "text": [
      "\ndraw_profit_graph [thread=<Thread(Thread-222, started 140552521463552)>]\n\nevaluate_one_time_frame_and_draw [thread=<_MainThread(MainThread, started 140553302640384)>]\n\n\ncurrency_pair=USDT_ETH\n"
     ]
    },
    {
     "data": {
      "image/png": "[encoded data removed]",
      "text/plain": [
       "<matplotlib.figure.Figure at 0x7fd504f27a20>"
      ]
     },
     "metadata": {},
     "output_type": "display_data"
    },
    {
     "name": "stdout",
     "output_type": "stream",
     "text": [
      "https://poloniex.com/public?command=returnChartData&period=900&currencyPair=USDT_ETH&end=1500809439.0&start=1495971039.0\n"
     ]
    },
    {
     "name": "stdout",
     "output_type": "stream",
     "text": [
      "https://poloniex.com/public?command=returnChartData&period=900&currencyPair=USDT_ETH&end=1506857439.0&start=1500809439.0\n"
     ]
    },
    {
     "name": "stdout",
     "output_type": "stream",
     "text": [
      "max_base_score=0.8, volume_unit_target_currency_to_buy_in_percents=5.0, multiplication_threshold=3.596219543027146, min_volume_per_period_threshold=279705.61306831223\n"
     ]
    },
    {
     "name": "stdout",
     "output_type": "stream",
     "text": [
      "max_base_score=1.1555555555555557, volume_unit_target_currency_to_buy_in_percents=5.0, multiplication_threshold=3.596219543027146, min_volume_per_period_threshold=279705.61306831223\n"
     ]
    },
    {
     "name": "stdout",
     "output_type": "stream",
     "text": [
      "max_base_score=1.8666666666666667, volume_unit_target_currency_to_buy_in_percents=5.0, multiplication_threshold=3.596219543027146, min_volume_per_period_threshold=279705.61306831223\n"
     ]
    },
    {
     "name": "stdout",
     "output_type": "stream",
     "text": [
      "max_base_score=2.2222222222222223, volume_unit_target_currency_to_buy_in_percents=5.0, multiplication_threshold=3.596219543027146, min_volume_per_period_threshold=279705.61306831223\n"
     ]
    },
    {
     "name": "stdout",
     "output_type": "stream",
     "text": [
      "max_base_score=1.511111111111111, volume_unit_target_currency_to_buy_in_percents=5.0, multiplication_threshold=3.596219543027146, min_volume_per_period_threshold=279705.61306831223\n"
     ]
    },
    {
     "name": "stdout",
     "output_type": "stream",
     "text": [
      "max_base_score=2.577777777777778, volume_unit_target_currency_to_buy_in_percents=5.0, multiplication_threshold=3.596219543027146, min_volume_per_period_threshold=279705.61306831223\n"
     ]
    },
    {
     "name": "stdout",
     "output_type": "stream",
     "text": [
      "max_base_score=2.9333333333333336, volume_unit_target_currency_to_buy_in_percents=5.0, multiplication_threshold=3.596219543027146, min_volume_per_period_threshold=279705.61306831223\n"
     ]
    },
    {
     "name": "stdout",
     "output_type": "stream",
     "text": [
      "elapsed_time of evaluate_algorithm=7.7378621101379395\n"
     ]
    },
    {
     "name": "stdout",
     "output_type": "stream",
     "text": [
      "WALLET: USDT   97.4173, ETH    0.1245 => in total USDT  134.8733, spent on fees USDT    3.0730\n"
     ]
    },
    {
     "name": "stdout",
     "output_type": "stream",
     "text": [
      "\n"
     ]
    },
    {
     "name": "stdout",
     "output_type": "stream",
     "text": [
      "max_base_score=3.2888888888888888, volume_unit_target_currency_to_buy_in_percents=5.0, multiplication_threshold=3.596219543027146, min_volume_per_period_threshold=279705.61306831223\n"
     ]
    },
    {
     "name": "stdout",
     "output_type": "stream",
     "text": [
      "elapsed_time of evaluate_algorithm=9.851750135421753\n"
     ]
    },
    {
     "name": "stdout",
     "output_type": "stream",
     "text": [
      "WALLET: USDT  105.3824, ETH    0.0659 => in total USDT  125.2151, spent on fees USDT    2.0878\n"
     ]
    },
    {
     "name": "stdout",
     "output_type": "stream",
     "text": [
      "\n"
     ]
    },
    {
     "name": "stdout",
     "output_type": "stream",
     "text": [
      "elapsed_time of evaluate_algorithm=9.909882545471191\n"
     ]
    },
    {
     "name": "stdout",
     "output_type": "stream",
     "text": [
      "WALLET: USDT   97.0565, ETH    0.1239 => in total USDT  134.3320, spent on fees USDT    2.9923\n"
     ]
    },
    {
     "name": "stdout",
     "output_type": "stream",
     "text": [
      "\n"
     ]
    },
    {
     "name": "stdout",
     "output_type": "stream",
     "text": [
      "max_base_score=3.644444444444445, volume_unit_target_currency_to_buy_in_percents=5.0, multiplication_threshold=3.596219543027146, min_volume_per_period_threshold=279705.61306831223\n"
     ]
    },
    {
     "name": "stdout",
     "output_type": "stream",
     "text": [
      "max_base_score=4.0, volume_unit_target_currency_to_buy_in_percents=5.0, multiplication_threshold=3.596219543027146, min_volume_per_period_threshold=279705.61306831223\n"
     ]
    },
    {
     "name": "stdout",
     "output_type": "stream",
     "text": [
      "elapsed_time of evaluate_algorithm=10.290942907333374\n"
     ]
    },
    {
     "name": "stdout",
     "output_type": "stream",
     "text": [
      "WALLET: USDT   98.7395, ETH    0.0958 => in total USDT  127.5797, spent on fees USDT    2.3370\n"
     ]
    },
    {
     "name": "stdout",
     "output_type": "stream",
     "text": [
      "\n"
     ]
    },
    {
     "name": "stdout",
     "output_type": "stream",
     "text": [
      "elapsed_time of evaluate_algorithm=10.489477634429932\n"
     ]
    },
    {
     "name": "stdout",
     "output_type": "stream",
     "text": [
      "WALLET: USDT   97.8792, ETH    0.1252 => in total USDT  135.5467, spent on fees USDT    3.1492\n"
     ]
    },
    {
     "name": "stdout",
     "output_type": "stream",
     "text": [
      "\n"
     ]
    },
    {
     "name": "stdout",
     "output_type": "stream",
     "text": [
      "elapsed_time of evaluate_algorithm=10.645172834396362\n"
     ]
    },
    {
     "name": "stdout",
     "output_type": "stream",
     "text": [
      "WALLET: USDT   96.3920, ETH    0.1229 => in total USDT  133.3815, spent on fees USDT    2.8659\n"
     ]
    },
    {
     "name": "stdout",
     "output_type": "stream",
     "text": [
      "\n"
     ]
    },
    {
     "name": "stdout",
     "output_type": "stream",
     "text": [
      "elapsed_time of evaluate_algorithm=10.688740730285645\n"
     ]
    },
    {
     "name": "stdout",
     "output_type": "stream",
     "text": [
      "WALLET: USDT   97.4781, ETH    0.1148 => in total USDT  132.0162, spent on fees USDT    2.7106\n"
     ]
    },
    {
     "name": "stdout",
     "output_type": "stream",
     "text": [
      "\n"
     ]
    },
    {
     "name": "stdout",
     "output_type": "stream",
     "text": [
      "elapsed_time of evaluate_algorithm=7.861892461776733\n"
     ]
    },
    {
     "name": "stdout",
     "output_type": "stream",
     "text": [
      "WALLET: USDT   98.1442, ETH    0.1256 => in total USDT  135.9326, spent on fees USDT    3.1960\n"
     ]
    },
    {
     "name": "stdout",
     "output_type": "stream",
     "text": [
      "\n"
     ]
    },
    {
     "name": "stdout",
     "output_type": "stream",
     "text": [
      "elapsed_time of evaluate_algorithm=6.715722322463989\n"
     ]
    },
    {
     "name": "stdout",
     "output_type": "stream",
     "text": [
      "WALLET: USDT   98.3688, ETH    0.1259 => in total USDT  136.2509, spent on fees USDT    3.2359\n"
     ]
    },
    {
     "name": "stdout",
     "output_type": "stream",
     "text": [
      "\n"
     ]
    },
    {
     "name": "stdout",
     "output_type": "stream",
     "text": [
      "elapsed_time of evaluate_algorithm=6.843246936798096\n"
     ]
    },
    {
     "name": "stdout",
     "output_type": "stream",
     "text": [
      "WALLET: USDT   98.3303, ETH    0.1259 => in total USDT  136.2022, spent on fees USDT    3.2299\n"
     ]
    },
    {
     "name": "stdout",
     "output_type": "stream",
     "text": [
      "\n"
     ]
    },
    {
     "name": "stdout",
     "output_type": "stream",
     "text": [
      "\ndraw_profit_graph [thread=<Thread(Thread-226, started 140552513070848)>]\n\ndraw_profit_graph [thread=<Thread(Thread-227, started 140552896296704)>]\n\n\n"
     ]
    },
    {
     "data": {
      "image/png": "[encoded data removed]",
      "text/plain": [
       "<matplotlib.figure.Figure at 0x7fd504b3d860>"
      ]
     },
     "metadata": {},
     "output_type": "display_data"
    },
    {
     "data": {
      "image/png": "[encoded data removed]",
      "text/plain": [
       "<matplotlib.figure.Figure at 0x7fd504b3d860>"
      ]
     },
     "metadata": {},
     "output_type": "display_data"
    },
    {
     "data": {
      "image/png": "[encoded data removed]",
      "text/plain": [
       "<matplotlib.figure.Figure at 0x7fd504a5af98>"
      ]
     },
     "metadata": {},
     "output_type": "display_data"
    },
    {
     "data": {
      "image/png": "[encoded data removed]",
      "text/plain": [
       "<matplotlib.figure.Figure at 0x7fd504a5af98>"
      ]
     },
     "metadata": {},
     "output_type": "display_data"
    }
   ],
   "source": [
    "trading_fee_decimal = 0.0025\n",
    "\n",
    "old_week_count = 8\n",
    "\n",
    "# DO NOT DELETE\n",
    "# (old_week_count, new_week_count, max_base_score, volume_unit_target_currency_to_buy_in_percents)\n",
    "# (8, 20, 3, 5)    => WALLET: USDT 162.164, BTC 0.0018 => in total USDT 170    (.8 multiplication of final_balance)\n",
    "# (8, 10, 3, 2.3)  => WALLET: USDT 125.2,   BTC 0.0003 => in total USDT 126.4  (.8 multiplication of final_balance)\n",
    "# (8, 5, 2.3, 3.7) => WALLET: USDT 117.77,  BTC 0.0002 => in total USDT 118.62 (.8 multiplication of final_balance)\n",
    "# currency_pair = CurrencyPair('USDT', 'BTC', 0.0005)\n",
    "\n",
    "# DO NOT DELETE\n",
    "# (old_week_count, new_week_count, max_base_score, volume_unit_target_currency_to_buy_in_percents)\n",
    "# (8, 20, 1.1, 4) => WALLET: USDT 127.4,  ETH 0.27   => in total USDT 209.6    (.8 multiplication of final_balance)\n",
    "# (8, 10, 3, 5)   => WALLET: USDT 98,     ETH 0.1253 => in total USDT 136.1642 (.8 multiplication of final_balance)\n",
    "# (8, 5, 1.1, 5)  => WALLET: USDT 113.03, ETH 0.0043 => in total USDT 114.3438 (.8 multiplication of final_balance)\n",
    "currency_pair = CurrencyPair('USDT', 'ETH', 0.0005)\n",
    "\n",
    "# DO NOT DELETE\n",
    "# (old_week_count, new_week_count, max_base_score, volume_unit_target_currency_to_buy_in_percents)\n",
    "# (8, 20, 2.6, 5) => WALLET: USDT 220.526, LTC 0.2208 => in total USDT 232.8 (.8 multiplication of final_balance)\n",
    "# (8, 10, 2, 1)   => WALLET: USDT 27.3570, LTC 1.4877 => in total USDT 110   (.8 multiplication of final_balance)\n",
    "# (8, 5, .8, 1)   => WALLET: USDT 25.6203, LTC 1.3536 => in total USDT 101   (.8 multiplication of final_balance)\n",
    "# currency_pair = CurrencyPair('USDT', 'LTC', 0.0005)\n",
    "\n",
    "# DO NOT DELETE\n",
    "# (old_week_count, new_week_count, max_base_score, volume_unit_target_currency_to_buy_in_percents)\n",
    "# (8, 20, 3, 1.5) => WALLET: USDT 0, XMR 1.465 => in total USDT 139.9\n",
    "# currency_pair = CurrencyPair('USDT', 'XMR', 0.0005)\n",
    "\n",
    "# DO NOT DELETE\n",
    "# currency_pair = CurrencyPair('BTC', 'ETH', 0.0005)\n",
    "# currency_pair = CurrencyPair('BTC', 'LTC', 0.0005)\n",
    "# currency_pair = CurrencyPair('BTC', 'XMR', 0.0005)\n",
    "\n",
    "currency_pair_evaluator = CurrencyPairEvaluator(currency_pair)\n",
    "# DO NOT DELETE\n",
    "#currency_pair_evaluator.evaluate_one_time_frame_and_draw_and_close(1)\n",
    "currency_pair_evaluator.evaluate_multiple_time_frames_and_draw([5, 10])"
   ]
  },
  {
   "cell_type": "code",
   "execution_count": 13,
   "metadata": {
    "collapsed": true
   },
   "outputs": [],
   "source": []
  }
 ],
 "metadata": {
  "kernelspec": {
   "display_name": "Python 3",
   "language": "python",
   "name": "python3"
  },
  "language_info": {
   "codemirror_mode": {
    "name": "ipython",
    "version": 3
   },
   "file_extension": ".py",
   "mimetype": "text/x-python",
   "name": "python",
   "nbconvert_exporter": "python",
   "pygments_lexer": "ipython3",
   "version": "3.5.2"
  }
 },
 "nbformat": 4,
 "nbformat_minor": 2
}
