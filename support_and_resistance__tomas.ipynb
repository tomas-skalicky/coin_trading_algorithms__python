{
 "cells": [
  {
   "cell_type": "code",
   "execution_count": 2,
   "metadata": {
    "collapsed": true
   },
   "outputs": [],
   "source": [
    "import os\n",
    "import sys\n",
    "import time\n",
    "from enum import Enum\n",
    "\n",
    "from mpl_toolkits.mplot3d import Axes3D\n",
    "import matplotlib.pyplot as plt\n",
    "import numpy as np\n",
    "import pandas as pd\n",
    "import requests\n",
    "from functional import seq\n",
    "from math import sqrt\n",
    "from multiprocessing import Pool\n",
    "import threading\n",
    "\n",
    "# Load the \"autoreload\" extension\n",
    "% reload_ext autoreload\n",
    "\n",
    "# always reload modules marked with \"%aimport\"\n",
    "% autoreload 1\n",
    "\n",
    "# add the 'src' directory as one where we can import modules\n",
    "src_dir = os.path.join(os.getcwd(), os.pardir, os.pardir, 'src')\n",
    "sys.path.append(src_dir)"
   ]
  },
  {
   "cell_type": "code",
   "execution_count": 3,
   "metadata": {
    "collapsed": true
   },
   "outputs": [],
   "source": [
    "class PeriodColumns(Enum):\n",
    "    ID = 'id', 0\n",
    "    LOW = 'low', 1\n",
    "    HIGH = 'high', 2\n",
    "    OPEN = 'open', 3\n",
    "    CLOSE = 'close', 4\n",
    "    WEIGHTED_AVERAGE = 'weightedAverage', 5\n",
    "    VOLUME = 'volume', 6\n",
    "    BASE_PRICE = 'basePrice', 7\n",
    "    BASE_PRICE_BIN = 'basePriceBin', 8\n",
    "\n",
    "    def __init__(self, column_name, index):\n",
    "        self.column_name = column_name\n",
    "        self.index = index\n",
    "\n",
    "\n",
    "class BinColumns(Enum):\n",
    "    BIN_ID = 'binId'\n",
    "    AGG_VOLUME = 'aggVolume'\n",
    "    LAST_PREVIOUS_BIN_ID = 'recentStrongestBinId'\n",
    "    CONTAINS_BUY_ORDER = 'containsBuyOrder'\n",
    "\n",
    "    OLD_LAST_AGG_VOLUME = 'oldLastAggVolume'\n",
    "    OLD_LAST_MAX_VOLUME = 'oldLastMaxVolume'\n",
    "    OLD_LAST_BASE_PRICE = 'oldLastBasePrice'\n",
    "    OLD_ONE_BEFORE_LAST_AGG_VOLUME = 'oldOneBeforeLastAggVolume'\n",
    "    OLD_ONE_BEFORE_LAST_MAX_VOLUME = 'oldOneBeforeLastMaxVolume'\n",
    "    OLD_PERIOD_START = 'oldPeriodStart'\n",
    "    OLD_PERIOD_END = 'oldPeriodEnd'\n",
    "    OLD_BASE_SCORE = 'oldBaseScore'\n",
    "\n",
    "    NEW_LAST_AGG_VOLUME = 'newLastAggVolume'\n",
    "    NEW_LAST_MAX_VOLUME = 'newLastMaxVolume'\n",
    "    NEW_LAST_BASE_PRICE = 'newLastBasePrice'\n",
    "    NEW_ONE_BEFORE_LAST_AGG_VOLUME = 'newOneBeforeLastAggVolume'\n",
    "    NEW_ONE_BEFORE_LAST_MAX_VOLUME = 'newOneBeforeLastMaxVolume'\n",
    "    NEW_PERIOD_START = 'newPeriodStart'\n",
    "    NEW_PERIOD_END = 'newPeriodEnd'\n",
    "    NEW_BASE_SCORE = 'newBaseScore'\n",
    "\n",
    "    def __init__(self, column_name):\n",
    "        self.column_name = column_name\n",
    "\n",
    "\n",
    "def calculate_profit_in_percents(sell_price_without_fee, buy_price_without_fee):\n",
    "    sell_price_with_fee = sell_price_without_fee * (1 - trading_fee_decimal)\n",
    "    buy_price_with_fee = buy_price_without_fee * (1 + trading_fee_decimal)\n",
    "    return (sell_price_with_fee / buy_price_with_fee - 1) * 100\n",
    "\n",
    "\n",
    "def add_trading_fee_to_volume(volume):\n",
    "    return volume / (1 + trading_fee_decimal)\n",
    "\n",
    "\n",
    "def subtract_trading_fee_from_volume(volume):\n",
    "    return volume / (1 - trading_fee_decimal)\n",
    "\n",
    "\n",
    "def calculate_trading_fee(price, volume):\n",
    "    return price * volume * trading_fee_decimal\n",
    "\n",
    "\n",
    "class CurrencyPair:\n",
    "    def __init__(self, base_currency_symbol, target_currency_symbol, min_target_currency_investment):\n",
    "        self.base_currency_symbol = base_currency_symbol\n",
    "        self.target_currency_symbol = target_currency_symbol\n",
    "        self.min_target_currency_investment = min_target_currency_investment\n",
    "\n",
    "    def get_name(self):\n",
    "        return '{}_{}'.format(self.base_currency_symbol, self.target_currency_symbol)\n",
    "\n",
    "\n",
    "class Wallet:\n",
    "    def __init__(self, currency_pair):\n",
    "        self.currency_pair = currency_pair\n",
    "        self.base_currency_amount = 0\n",
    "        self.base_currency_paid_on_fees = 0\n",
    "        self.target_currency_amount = 0\n",
    "\n",
    "    def buy(self, price, volume):\n",
    "        volume_with_fee = add_trading_fee_to_volume(volume)\n",
    "\n",
    "        if self.base_currency_amount < price * volume_with_fee:\n",
    "            bought_volume_without_fee = subtract_trading_fee_from_volume(self.base_currency_amount / price)\n",
    "            self.target_currency_amount += bought_volume_without_fee\n",
    "            self.base_currency_amount = 0\n",
    "            self.base_currency_paid_on_fees += calculate_trading_fee(price, bought_volume_without_fee)\n",
    "            return bought_volume_without_fee\n",
    "        else:\n",
    "            self.target_currency_amount += volume\n",
    "            self.base_currency_amount -= price * volume_with_fee\n",
    "            self.base_currency_paid_on_fees += calculate_trading_fee(price, volume)\n",
    "            return volume\n",
    "\n",
    "    def sell(self, price, volume):\n",
    "        volume_with_fee = add_trading_fee_to_volume(volume)\n",
    "\n",
    "        sold_volume_with_fee = min(self.target_currency_amount, volume_with_fee)\n",
    "        sold_volume_without_fee = subtract_trading_fee_from_volume(sold_volume_with_fee)\n",
    "        self.target_currency_amount -= sold_volume_with_fee\n",
    "        self.base_currency_amount += price * sold_volume_without_fee\n",
    "        self.base_currency_paid_on_fees += calculate_trading_fee(price, sold_volume_without_fee)\n",
    "        return sold_volume_without_fee\n",
    "\n",
    "    def get_total_in_base_currency(self, current_price):\n",
    "        return self.base_currency_amount + current_price * self.target_currency_amount\n",
    "\n",
    "    def to_string(self, current_price):\n",
    "        return 'WALLET: {} {:9.4f}, {} {:9.4f} => in total {} {:9.4f}, spent on fees {} {:9.4f}'.format(\n",
    "            self.currency_pair.base_currency_symbol, self.base_currency_amount,\n",
    "            self.currency_pair.target_currency_symbol, self.target_currency_amount,\n",
    "            self.currency_pair.base_currency_symbol, self.get_total_in_base_currency(current_price),\n",
    "            self.currency_pair.base_currency_symbol, self.base_currency_paid_on_fees)\n",
    "\n",
    "\n",
    "# Represents an outstanding order.\n",
    "class OutstandingOrder:\n",
    "    def __init__(self, price, volume):\n",
    "        self.price = price\n",
    "        self.volume = volume\n",
    "\n",
    "    def to_string(self, current_price):\n",
    "        return self.__str__()\n",
    "\n",
    "    def draw(self, plt, total_period_count):\n",
    "        pass\n",
    "\n",
    "\n",
    "# Only drawing of sell order is currently supported. The reason is that buy orders are \n",
    "# immediately after their creation executed.\n",
    "class OutstandingBuyOrder(OutstandingOrder):\n",
    "    def __init__(self, buy_price, buy_volume, base_price, created_on_period_index, created_on_bin_index):\n",
    "        super().__init__(buy_price, buy_volume)\n",
    "        self.base_price = base_price\n",
    "        self.created_on_period_index = created_on_period_index\n",
    "        self.created_on_bin_index = created_on_bin_index\n",
    "\n",
    "    def calculate_potential_profit_in_percents(self):\n",
    "        return calculate_profit_in_percents(self.base_price, self.price)\n",
    "\n",
    "    def __str__(self):\n",
    "        return '{:4}: {} ({} {:7.2f}, {} {:7.2f}), {} {:9.5f}, {} {:6.0f}, {} {:6.2f}%'.format(\n",
    "            'BUY',\n",
    "            'prices', 'base', self.base_price, 'buy', self.price,\n",
    "            'buyVol', self.volume,\n",
    "            'createdOn', self.created_on_period_index,\n",
    "            'potentialProfit', self.calculate_potential_profit_in_percents())\n",
    "\n",
    "\n",
    "class OutstandingSellOrder(OutstandingOrder):\n",
    "    def __init__(self, sell_price, sell_volume, buy_order_execution):\n",
    "        super().__init__(sell_price, sell_volume)\n",
    "        self.original_sell_price = sell_price\n",
    "        self.buy_order_execution = buy_order_execution\n",
    "\n",
    "    def calculate_planned_profit_in_percents(self):\n",
    "        return calculate_profit_in_percents(self.price, self.buy_order_execution.price)\n",
    "\n",
    "    def calculate_current_profit_in_percents(self, current_price):\n",
    "        return calculate_profit_in_percents(current_price, self.buy_order_execution.price)\n",
    "    \n",
    "    def update_old(self, current_period_index, algorithm_config):\n",
    "        pending_time_in_periods = current_period_index - self.buy_order_execution.executed_on_period_index\n",
    "        one_day_in_periods = determine_one_day_in_periods(algorithm_config.period_size_in_sec)\n",
    "        pending_time_in_days = int(pending_time_in_periods / one_day_in_periods)\n",
    "        percents_to_subtract = (pending_time_in_days - 3) / 2\n",
    "        if percents_to_subtract > 0:\n",
    "            new_price_proposal = self.original_sell_price / (1 + percents_to_subtract / 100)\n",
    "            self.price = max(new_price_proposal, self.buy_order_execution.order.base_price)\n",
    "            \n",
    "    def to_string(self, current_price):\n",
    "        origin_sell_price_string = ', {} {:7.2f}'.format('oSell', self.original_sell_price) if self.price < self.original_sell_price else ''\n",
    "        return '{:4}: {} ({} {:7.2f}, {} {:7.2f}{:15}, {} {:7.2f}), {} {:9.5f}, {} {:6.0f}, {} ({} {:6.2f}%,' \\\n",
    "               ' {} {:6.2f}%)'.format(\n",
    "            'SELL',\n",
    "            'prices', 'base', self.buy_order_execution.order.base_price, 'bought', self.buy_order_execution.price,\n",
    "            origin_sell_price_string,\n",
    "            'sell', self.price,\n",
    "            'sellVol', self.volume,\n",
    "            'buyCreatedOn', self.buy_order_execution.order.created_on_period_index,\n",
    "            'profit', 'planned', self.calculate_planned_profit_in_percents(), 'current',\n",
    "            self.calculate_current_profit_in_percents(current_price))\n",
    "\n",
    "    def draw(self, plt, total_period_count):\n",
    "        color = 'red'\n",
    "        line_style = 'dashed'\n",
    "        line_width = (self.calculate_planned_profit_in_percents() / 10).astype('int') + 1\n",
    "\n",
    "        # Vertical line from the buy point\n",
    "        plt.plot([self.buy_order_execution.order.created_on_period_index,\n",
    "                  self.buy_order_execution.order.created_on_period_index],\n",
    "                 [self.buy_order_execution.price, self.price],\n",
    "                 linestyle=line_style, color=color, linewidth=line_width)\n",
    "        # Horizontal sell line till the end of chart (different than in TradingHistoryEntry class in order to\n",
    "        # mitigate overlapping)\n",
    "        plt.plot([self.buy_order_execution.order.created_on_period_index, total_period_count],\n",
    "                 [self.price, self.price],\n",
    "                 linestyle=line_style, color=color, linewidth=line_width)\n",
    "        if self.price < self.original_sell_price:\n",
    "            # Vertical line from the end of sell line to the original sell price\n",
    "            plt.plot([total_period_count, total_period_count],\n",
    "                     [self.price, self.original_sell_price],\n",
    "                     linestyle=line_style, color='orange')\n",
    "\n",
    "\n",
    "class OutstandingOrderManager:\n",
    "    def __init__(self):\n",
    "        self.orders = []\n",
    "\n",
    "    def to_string(self, current_price):\n",
    "        orders_string = '\\n'.join(order.to_string(current_price) for order in self.orders)\n",
    "        return 'ORDERS:\\n{}'.format(orders_string)\n",
    "\n",
    "\n",
    "class OrderExecution:\n",
    "    def __init__(self, order, price, volume, executed_on_period_index):\n",
    "        self.order = order\n",
    "        self.price = price\n",
    "        self.volume = volume\n",
    "        self.executed_on_period_index = executed_on_period_index\n",
    "\n",
    "\n",
    "class BuyOrderExecution(OrderExecution):\n",
    "    def __init__(self, buy_order, bought_price, bought_volume, bought_on_period_index,\n",
    "                 base_currency_remaining_amount):\n",
    "        super().__init__(buy_order, bought_price, bought_volume, bought_on_period_index)\n",
    "        self.base_currency_remaining_amount = base_currency_remaining_amount\n",
    "\n",
    "    def calculate_potential_profit_in_percents(self):\n",
    "        return calculate_profit_in_percents(self.order.base_price, self.price)\n",
    "\n",
    "    def __str__(self):\n",
    "        return '{:6}: {} ({} {:7.2f}, {} {:7.2f}), {} {:9.5f}, {} {:6.0f}, {} {:6.2f}%, {} {:8.3f}'.format(\n",
    "            'BOUGHT',\n",
    "            'prices', 'base', self.order.base_price, 'bought', self.price,\n",
    "            'boughtVol', self.volume,\n",
    "            'boughtOn', self.executed_on_period_index,\n",
    "            'potentialProfit', self.calculate_potential_profit_in_percents(),\n",
    "            'remainingBaseCurrency', self.base_currency_remaining_amount)\n",
    "\n",
    "    def draw(self, plt):\n",
    "        color = 'green'\n",
    "\n",
    "        plt.plot(self.executed_on_period_index, self.price, marker='o', color=color)\n",
    "\n",
    "        line_style = 'dotted'\n",
    "        plt.plot([self.executed_on_period_index, self.executed_on_period_index],\n",
    "                 [self.price, self.order.base_price],\n",
    "                 linestyle=line_style, color=color)\n",
    "\n",
    "\n",
    "class SellOrderExecution(OrderExecution):\n",
    "    def __init__(self, sell_order, sold_price, sold_volume, sold_on_period_index):\n",
    "        super().__init__(sell_order, sold_price, sold_volume, sold_on_period_index)\n",
    "\n",
    "    def calculate_realized_profit_in_percents(self):\n",
    "        return calculate_profit_in_percents(self.price, self.order.buy_order_execution.price)\n",
    "\n",
    "    def __str__(self):\n",
    "        origin_sell_price_string = ', {} {:7.2f}'.format('oSell', self.order.original_sell_price) if self.order.price < self.order.original_sell_price else ''\n",
    "        return '{:6}: {} ({} {:7.2f}, {} {:7.2f}{:15}, {} {:7.2f}), {} {:9.5f}, {} {:6.0f}, {} ({:6.2f}%),' \\\n",
    "               ' {} {:8.3f}'.format(\n",
    "            'SOLD',\n",
    "            'prices', 'base', self.order.buy_order_execution.order.base_price, 'bought',\n",
    "            self.order.buy_order_execution.price, origin_sell_price_string, 'sold', self.price,\n",
    "            'soldVol', self.volume,\n",
    "            'soldOn', self.executed_on_period_index,\n",
    "            'profit', self.calculate_realized_profit_in_percents(), \n",
    "            'buyRemainingBaseCurrency', self.order.buy_order_execution.base_currency_remaining_amount)\n",
    "\n",
    "    def draw(self, plt):\n",
    "        color = 'red'\n",
    "\n",
    "        plt.plot(self.executed_on_period_index, self.price, marker='o', color=color)\n",
    "\n",
    "        line_style = 'dotted'\n",
    "        # Horizontal line from the buy point\n",
    "        plt.plot([self.order.buy_order_execution.executed_on_period_index, self.executed_on_period_index],\n",
    "                 [self.order.buy_order_execution.price, self.order.buy_order_execution.price],\n",
    "                 linestyle=line_style, color=color)\n",
    "        # Vertical line to the sell point\n",
    "        plt.plot([self.executed_on_period_index, self.executed_on_period_index],\n",
    "                 [self.order.buy_order_execution.price, self.price],\n",
    "                 linestyle=line_style, color=color)\n",
    "        if self.order.price < self.order.original_sell_price:\n",
    "            # Horizontal line from the sell point to the original sell price\n",
    "            plt.plot([self.executed_on_period_index, self.executed_on_period_index],\n",
    "                     [self.price, self.order.original_sell_price],\n",
    "                     linestyle=line_style, color='orange')\n",
    "\n",
    "\n",
    "class TradingHistory:\n",
    "    def __init__(self):\n",
    "        self.order_executions = []\n",
    "\n",
    "    def __str__(self):\n",
    "        order_executions_string = '\\n'.join(order_execution.__str__() for order_execution in self.order_executions\n",
    "                                            if isinstance(order_execution, SellOrderExecution))\n",
    "        return 'TRADING_HISTORY:\\n{}'.format(order_executions_string)\n",
    "\n",
    "\n",
    "class ExchangePlatform:\n",
    "    def __init__(self, currency_pair):\n",
    "        self.wallet = Wallet(currency_pair)\n",
    "        self.outstanding_order_manager = OutstandingOrderManager()\n",
    "        self.trading_history = TradingHistory()\n",
    "\n",
    "    def deposit(self, base_currency_amount):\n",
    "        self.wallet.base_currency_amount += base_currency_amount\n",
    "\n",
    "    def determine_buy_order_volume(self, potential_profit_in_percents,\n",
    "                                   last_base_score, current_price, algorithm_config):\n",
    "\n",
    "        # 1% of the total money in the wallet expressed in the target currency\n",
    "        one_percent_of_total_volume = (self.wallet.get_total_in_base_currency(\n",
    "            current_price) / 100) / current_price\n",
    "\n",
    "        profit_coefficient = (potential_profit_in_percents - algorithm_config.min_buy_order_profit_in_percents) \\\n",
    "                             * last_base_score * algorithm_config.volume_unit_target_currency_to_buy_in_percents\n",
    "\n",
    "        number_of_percents_of_total_volume_to_buy = min(profit_coefficient,\n",
    "                                                        algorithm_config.max_buy_order_volume_in_wallet_percents)\n",
    "\n",
    "        return number_of_percents_of_total_volume_to_buy * one_percent_of_total_volume\n",
    "\n",
    "    def create_buy_order_if_wanted(self, current_period_index, current_price, last_base_score,\n",
    "                                   last_base_last_base_price, current_bin_index, price_bins,\n",
    "                                   currency_pair, algorithm_config):\n",
    "\n",
    "        if price_bins.at[current_bin_index, BinColumns.CONTAINS_BUY_ORDER.column_name] == 1:\n",
    "            # Only one not resolved buy order per bin.\n",
    "            return\n",
    "\n",
    "        potential_profit_in_percents = calculate_profit_in_percents(last_base_last_base_price, current_price)\n",
    "        if potential_profit_in_percents > algorithm_config.min_buy_order_profit_in_percents:\n",
    "            volume = self.determine_buy_order_volume(potential_profit_in_percents,\n",
    "                                                     last_base_score, current_price, algorithm_config)\n",
    "            \n",
    "            if volume >= currency_pair.min_target_currency_investment:\n",
    "                new_order = OutstandingBuyOrder(current_price, volume, last_base_last_base_price, current_period_index,\n",
    "                                                current_bin_index)\n",
    "                \n",
    "                self.outstanding_order_manager.orders.append(new_order)\n",
    "    \n",
    "                price_bins.set_value(current_bin_index, BinColumns.CONTAINS_BUY_ORDER.column_name, 1)\n",
    "\n",
    "    def create_sell_order(self, sell_price, sell_volume, buy_order_execution):\n",
    "        new_sell_order = OutstandingSellOrder(sell_price, sell_volume, buy_order_execution)\n",
    "        self.outstanding_order_manager.orders.append(new_sell_order)\n",
    "\n",
    "    def create_sell_orders(self, buy_order_execution, currency_pair, algorithm_config):\n",
    "        base_sell_price = buy_order_execution.order.base_price\n",
    "        volume_to_get_investment_back = buy_order_execution.volume * (buy_order_execution.price / base_sell_price\n",
    "                                                                      + algorithm_config.profit_to_get_back_investment)\n",
    "\n",
    "        if buy_order_execution.volume - volume_to_get_investment_back < currency_pair.min_target_currency_investment:\n",
    "            volume_to_get_investment_back = buy_order_execution.volume\n",
    "        else:\n",
    "            remaining_volume = buy_order_execution.volume - volume_to_get_investment_back\n",
    "            progressive_coefficient = 1\n",
    "            while remaining_volume > 0:\n",
    "                sell_price = base_sell_price * (1 + progressive_coefficient * 0.01)\n",
    "                sell_volume = remaining_volume / 2\n",
    "\n",
    "                if remaining_volume - sell_volume < currency_pair.min_target_currency_investment:\n",
    "                    sell_volume = remaining_volume\n",
    "                    remaining_volume = 0\n",
    "                else:\n",
    "                    remaining_volume -= sell_volume\n",
    "\n",
    "                self.create_sell_order(sell_price, sell_volume, buy_order_execution)\n",
    "\n",
    "                progressive_coefficient *= 2\n",
    "\n",
    "        self.create_sell_order(base_sell_price, volume_to_get_investment_back, buy_order_execution)\n",
    "\n",
    "    def execute_buy_order(self, buy_order, current_price, current_period_index, price_bins, currency_pair,\n",
    "                          algorithm_config):\n",
    "        self.outstanding_order_manager.orders.remove(buy_order)\n",
    "        if buy_order.price < current_price:\n",
    "            # The price is higher than in buy order -> too expensive to buy. The order is being removed.\n",
    "            price_bins.set_value(buy_order.created_on_bin_index, BinColumns.CONTAINS_BUY_ORDER.column_name, 0)\n",
    "\n",
    "        else:\n",
    "            realized_volume = self.wallet.buy(current_price, buy_order.volume)\n",
    "\n",
    "            # DO NOT DELETE\n",
    "            if realized_volume < buy_order.volume:\n",
    "                print('Not enough {} in period {} [{}={:6.2f}, {}={:7.3f}]'.format(\n",
    "                    self.wallet.currency_pair.base_currency_symbol,\n",
    "                    current_period_index,\n",
    "                    'currPrice', current_price,\n",
    "                    'wantedVol', buy_order.volume))\n",
    "            if realized_volume == 0:\n",
    "                return\n",
    "\n",
    "            buy_order_execution = BuyOrderExecution(buy_order, current_price, realized_volume, current_period_index,\n",
    "                                                    self.wallet.base_currency_amount)\n",
    "            self.trading_history.order_executions.append(buy_order_execution)\n",
    "\n",
    "            self.create_sell_orders(buy_order_execution, currency_pair, algorithm_config)\n",
    "\n",
    "    def execute_sell_order_if_due(self, sell_order, current_price, current_period_index, price_bins):\n",
    "        if sell_order.price > current_price:\n",
    "            # The price is lower than in sell order -> too cheap to sell. The order is not resolved.\n",
    "            return\n",
    "\n",
    "        self.outstanding_order_manager.orders.remove(sell_order)\n",
    "        realized_volume = self.wallet.sell(current_price, sell_order.volume)\n",
    "\n",
    "        sell_order_execution = SellOrderExecution(sell_order, current_price, realized_volume, current_period_index)\n",
    "        self.trading_history.order_executions.append(sell_order_execution)\n",
    "\n",
    "        price_bins.set_value(sell_order.buy_order_execution.order.created_on_bin_index,\n",
    "                             BinColumns.CONTAINS_BUY_ORDER.column_name, 0)\n",
    "\n",
    "    def execute_order_if_due(self, order, current_price, current_period_index, price_bins, currency_pair,\n",
    "                             algorithm_config):\n",
    "        if isinstance(order, OutstandingBuyOrder):\n",
    "            self.execute_buy_order(order, current_price, current_period_index, price_bins, currency_pair,\n",
    "                                   algorithm_config)\n",
    "        else:\n",
    "            self.execute_sell_order_if_due(order, current_price, current_period_index, price_bins)\n",
    "\n",
    "    def execute_due_orders(self, current_price, current_period_index, price_bins, currency_pair, algorithm_config):\n",
    "        [self.execute_order_if_due(order, current_price, current_period_index, price_bins, currency_pair,\n",
    "                                   algorithm_config) for order in self.outstanding_order_manager.orders]\n",
    "        \n",
    "    def update_old_sell_orders(self, current_period_index, algorithm_config):\n",
    "        [sell_order.update_old(current_period_index, algorithm_config)\n",
    "         for sell_order in self.outstanding_order_manager.orders if isinstance(sell_order, OutstandingSellOrder)]\n",
    "\n",
    "    def to_string(self, current_price):\n",
    "        return '\\n{}\\n\\n{}\\n\\n{}'.format(self.trading_history, self.outstanding_order_manager.to_string(current_price),\n",
    "                                         self.wallet.to_string(current_price))\n",
    "\n",
    "\n",
    "class AlgorithmConfig:\n",
    "    def __init__(self, max_base_score, volume_unit_target_currency_to_buy_in_percents,\n",
    "                 multiplication_threshold, min_volume_per_period_threshold,\n",
    "                 max_old_price_bin_count, period_size_in_sec):\n",
    "        self.max_base_score = max_base_score\n",
    "        self.volume_unit_target_currency_to_buy_in_percents = volume_unit_target_currency_to_buy_in_percents\n",
    "        self.multiplication_threshold = multiplication_threshold\n",
    "        self.min_volume_per_period_threshold = min_volume_per_period_threshold\n",
    "        self.max_old_price_bin_count = max_old_price_bin_count\n",
    "        self.period_size_in_sec = period_size_in_sec\n",
    "        \n",
    "        self.profit_to_get_back_investment = 0.01\n",
    "        self.min_base_score = 0.5\n",
    "        self.previous_and_current_base_keep_coefficient = 2\n",
    "        self.min_buy_order_profit_in_percents = 2\n",
    "        self.max_buy_order_volume_in_wallet_percents = 10\n",
    "        self.initial_base_currency_amount = 100\n",
    "        \n",
    "    def __str__(self):\n",
    "        return '{}={}, {}={}, {}={}, {}={}, {}={}'.format(\n",
    "            'max_base_score', self.max_base_score,\n",
    "            'volume_unit_target_currency_to_buy_in_percents', self.volume_unit_target_currency_to_buy_in_percents,\n",
    "            'multiplication_threshold', self.multiplication_threshold,\n",
    "            'min_volume_per_period_threshold', self.min_volume_per_period_threshold,\n",
    "            'max_old_price_bin_count', self.max_old_price_bin_count)\n",
    "\n",
    "\n",
    "def determine_one_day_in_periods(period_size_in_sec):\n",
    "    return 60 * 60 * 24 / period_size_in_sec\n",
    "\n",
    "\n",
    "def fetch_prices_json(currency_pair, now, oldest_period_offset, period_count, period_size_in_sec):\n",
    "    start_date_time = now - oldest_period_offset * period_size_in_sec\n",
    "    end_date_time = start_date_time + period_count * period_size_in_sec\n",
    "    response = requests.get('https://poloniex.com/public?command=returnChartData', params={\n",
    "        'currencyPair': currency_pair.get_name(),\n",
    "        'start': start_date_time,\n",
    "        'end': end_date_time,\n",
    "        'period': period_size_in_sec\n",
    "    })\n",
    "\n",
    "    print(response.url)\n",
    "\n",
    "    return response.json()\n",
    "\n",
    "\n",
    "def fetch_periods_prices_jsons(currency_pair, old_week_count, new_week_count, new_week_offset, period_size_in_sec):\n",
    "    \"\"\"\n",
    "    old = historical data, i.e. can be analyzed together\n",
    "    new = coming data, i.e. only the current period, previous periods and \"old\" periods are known, NOT future periods.\n",
    "    \"\"\"\n",
    "    print('currency_pair={}'.format(currency_pair.get_name()))\n",
    "    \n",
    "    now = time.time()\n",
    "    now_int = int(now)\n",
    "    \n",
    "    one_week_in_periods = determine_one_day_in_periods(period_size_in_sec) * 7\n",
    "    \n",
    "    period_offset = new_week_offset * one_week_in_periods\n",
    "    total_period_count = (old_week_count + new_week_count) * one_week_in_periods\n",
    "    old_oldest_period_offset = total_period_count + period_offset\n",
    "    old_period_count = old_week_count * one_week_in_periods\n",
    "    new_oldest_period_offset = new_week_count * one_week_in_periods + period_offset\n",
    "    new_period_count = new_week_count * one_week_in_periods\n",
    "    \n",
    "    # NOTE: old_periods and new_periods intersect probably in one second.\n",
    "    old_periods_json = fetch_prices_json(currency_pair, now_int, old_oldest_period_offset, old_period_count,\n",
    "                                         period_size_in_sec)\n",
    "    new_periods_json = fetch_prices_json(currency_pair, now_int, new_oldest_period_offset, new_period_count,\n",
    "                                         period_size_in_sec)\n",
    "    return old_periods_json, new_periods_json, total_period_count, old_period_count\n",
    "\n",
    "\n",
    "def determine_period_base_price(period_index, periods):\n",
    "    if (periods.at[period_index, PeriodColumns.CLOSE.column_name] >=\n",
    "            periods.at[period_index, PeriodColumns.OPEN.column_name]):\n",
    "        return periods.at[period_index, PeriodColumns.LOW.column_name]\n",
    "    else:\n",
    "        return periods.at[period_index, PeriodColumns.HIGH.column_name]\n",
    "\n",
    "\n",
    "# id_offset in order to render new periods after old ones.\n",
    "def init_periods(periods_json, id_offset=0):\n",
    "    # NOTE: Columns in to_pandas must follow the order in PeriodColumns!!!\n",
    "    # ID prepended automatically perhaps because it is an index column.\n",
    "    # BASE_PRICE and BASE_PRICE_BIN appended.\n",
    "    periods = seq(periods_json).to_pandas([PeriodColumns.LOW.column_name,\n",
    "                                           PeriodColumns.HIGH.column_name,\n",
    "                                           PeriodColumns.OPEN.column_name,\n",
    "                                           PeriodColumns.CLOSE.column_name,\n",
    "                                           PeriodColumns.WEIGHTED_AVERAGE.column_name,\n",
    "                                           PeriodColumns.VOLUME.column_name])\n",
    "\n",
    "    periods_count = len(periods)\n",
    "\n",
    "    # To be able to find for rows by id.\n",
    "    periods[PeriodColumns.ID.column_name] = [i + id_offset for i in range(periods_count)]\n",
    "    periods.set_index(PeriodColumns.ID.column_name, inplace=True)\n",
    "\n",
    "    periods[PeriodColumns.BASE_PRICE.column_name] = [determine_period_base_price(i + id_offset, periods)\n",
    "                                                     for i in range(periods_count)]\n",
    "    return periods\n",
    "\n",
    "\n",
    "def calculate_base_price_bin(period_base_price, price_bin_offset):\n",
    "    return (period_base_price / price_bin_offset).astype('int') - 1\n",
    "\n",
    "\n",
    "def init_old_periods(old_periods_json, max_old_price_bin_count):\n",
    "    now = time.time()\n",
    "    old_periods = init_periods(old_periods_json)\n",
    "    # print('{}={}'.format('elapsed_time of init_periods', time.time() - now))\n",
    "\n",
    "    old_min_price = old_periods[PeriodColumns.LOW.column_name].min()\n",
    "    old_max_price = old_periods[PeriodColumns.HIGH.column_name].max()\n",
    "\n",
    "    # The number of bins is based on the number of covered percentages.\n",
    "    # If max_old_price_bin_count == 100 & old_min_price == 2000 USD & old_max_price == 5000 USD,\n",
    "    # then covered 60% -> old_price_bin_count = 60 bins\n",
    "    old_price_bin_count = ((1 - old_min_price / old_max_price) * max_old_price_bin_count).astype('int')\n",
    "    price_bin_offset = old_max_price / max_old_price_bin_count\n",
    "    # print('{}={}, {}={}'.format('old_price_bin_count', old_price_bin_count, 'price_bin_offset', price_bin_offset))\n",
    "    old_periods[PeriodColumns.BASE_PRICE_BIN.column_name] = calculate_base_price_bin(\n",
    "        old_periods[PeriodColumns.BASE_PRICE.column_name], price_bin_offset)\n",
    "\n",
    "    return old_periods, price_bin_offset\n",
    "\n",
    "\n",
    "def init_price_bins(price_bin_count):\n",
    "    price_bins = pd.DataFrame({\n",
    "        BinColumns.BIN_ID.column_name: range(price_bin_count)\n",
    "    })\n",
    "    price_bins.set_index(BinColumns.BIN_ID.column_name, inplace=True)\n",
    "    price_bins[BinColumns.AGG_VOLUME.column_name] = [0.0 for i in range(price_bin_count)]\n",
    "    price_bins[BinColumns.LAST_PREVIOUS_BIN_ID.column_name] = -10000\n",
    "    \n",
    "    price_bins[BinColumns.OLD_LAST_AGG_VOLUME.column_name] = [-10000.0 for i in range(price_bin_count)]\n",
    "    price_bins[BinColumns.OLD_LAST_MAX_VOLUME.column_name] = [-10000.0 for i in range(price_bin_count)]\n",
    "    price_bins[BinColumns.OLD_LAST_BASE_PRICE.column_name] = [-10000.0 for i in range(price_bin_count)]\n",
    "    price_bins[BinColumns.OLD_ONE_BEFORE_LAST_AGG_VOLUME.column_name] = [-10000.0 for i in range(price_bin_count)]\n",
    "    price_bins[BinColumns.OLD_ONE_BEFORE_LAST_MAX_VOLUME.column_name] = [-10000.0 for i in range(price_bin_count)]\n",
    "    price_bins[BinColumns.OLD_PERIOD_START.column_name] = [-10000 for i in range(price_bin_count)]\n",
    "    price_bins[BinColumns.OLD_PERIOD_END.column_name] = [-10000 for i in range(price_bin_count)]\n",
    "    price_bins[BinColumns.OLD_BASE_SCORE.column_name] = [0.0 for i in range(price_bin_count)]\n",
    "\n",
    "    return price_bins\n",
    "\n",
    "\n",
    "def append_new_price_bin(price_bin_id_to_append, price_bins):\n",
    "    new_price_bin_data = [{\n",
    "        BinColumns.AGG_VOLUME.column_name: 0.0,\n",
    "        BinColumns.LAST_PREVIOUS_BIN_ID.column_name: -10000,\n",
    "\n",
    "        BinColumns.OLD_LAST_AGG_VOLUME.column_name: -10000.0,\n",
    "        BinColumns.OLD_LAST_MAX_VOLUME.column_name: -10000.0,\n",
    "        BinColumns.OLD_LAST_BASE_PRICE.column_name: -10000.0,\n",
    "        BinColumns.OLD_ONE_BEFORE_LAST_AGG_VOLUME.column_name: -10000.0,\n",
    "        BinColumns.OLD_ONE_BEFORE_LAST_MAX_VOLUME.column_name: -10000.0,\n",
    "        BinColumns.OLD_PERIOD_START.column_name: -10000,\n",
    "        BinColumns.OLD_PERIOD_END.column_name: -10000,\n",
    "        BinColumns.OLD_BASE_SCORE.column_name: 0.0,\n",
    "\n",
    "        BinColumns.NEW_LAST_AGG_VOLUME.column_name: -10000.0,\n",
    "        BinColumns.NEW_LAST_MAX_VOLUME.column_name: -10000.0,\n",
    "        BinColumns.NEW_LAST_BASE_PRICE.column_name: -10000.0,\n",
    "        BinColumns.NEW_ONE_BEFORE_LAST_AGG_VOLUME.column_name: -10000.0,\n",
    "        BinColumns.NEW_ONE_BEFORE_LAST_MAX_VOLUME.column_name: -10000.0,\n",
    "        BinColumns.NEW_PERIOD_START.column_name: -10000,\n",
    "        BinColumns.NEW_PERIOD_END.column_name: -10000,\n",
    "        BinColumns.NEW_BASE_SCORE.column_name: 0.0\n",
    "    }]\n",
    "    new_price_bin = pd.DataFrame(new_price_bin_data, index=[price_bin_id_to_append])\n",
    "    # Returns a new pandas with the appended new price bin.\n",
    "    return price_bins.append(new_price_bin)\n",
    "\n",
    "\n",
    "def append_new_price_bins(price_bin_id_to_add, price_bins):\n",
    "    for bin_id in range(price_bins.last_valid_index() + 1, price_bin_id_to_add + 1):\n",
    "        price_bins = append_new_price_bin(bin_id, price_bins)\n",
    "    return price_bins\n",
    "\n",
    "\n",
    "def calculate_base_score(bin_last_max_volume, bin_one_before_last_max_volume, moving_overall_bin_max_volume,\n",
    "                         algorithm_config):\n",
    "    score_basis = bin_last_max_volume / moving_overall_bin_max_volume\n",
    "    if bin_one_before_last_max_volume == 0:\n",
    "        score = score_basis  # No trend known.\n",
    "    else:\n",
    "        score = score_basis * (bin_last_max_volume / bin_one_before_last_max_volume)  # Considers the trend.\n",
    "    return min(score, algorithm_config.max_base_score)"
   ]
  },
  {
   "cell_type": "code",
   "execution_count": 4,
   "metadata": {
    "collapsed": true
   },
   "outputs": [],
   "source": [
    "def update_price_bin_if_bin_change(bin_index, bin_base_price,\n",
    "                                   bin_agg_volume, bin_max_volume,\n",
    "                                   bin_start_period_included, bin_end_period_excluded,\n",
    "                                   previous_bin_index,\n",
    "                                   previous_bin_agg_volume, previous_bin_max_volume,\n",
    "                                   price_bins,\n",
    "                                   algorithm_config, moving_overall_bin_max_volume,\n",
    "                                   base_score_column, last_agg_volume_column,\n",
    "                                   last_base_price_column, last_max_volume_column,\n",
    "                                   one_before_last_agg_volume_column, one_before_last_max_volume_column,\n",
    "                                   period_end_column, period_start_column):\n",
    "    total_bin_agg_volume = bin_agg_volume + price_bins.at[bin_index, BinColumns.AGG_VOLUME.column_name]\n",
    "    price_bins.set_value(bin_index, BinColumns.AGG_VOLUME.column_name, total_bin_agg_volume)\n",
    "    price_bins.set_value(bin_index, BinColumns.LAST_PREVIOUS_BIN_ID.column_name, previous_bin_index)\n",
    "\n",
    "    bin_last_max_volume = price_bins.at[bin_index, last_max_volume_column.column_name]\n",
    "\n",
    "    # If a previous base in this price bin exists.\n",
    "    if bin_last_max_volume >= 0:\n",
    "        price_bins.set_value(bin_index, one_before_last_agg_volume_column.column_name,\n",
    "                             price_bins.at[bin_index, last_agg_volume_column.column_name])\n",
    "        price_bins.set_value(bin_index, one_before_last_max_volume_column.column_name,\n",
    "                             bin_last_max_volume)\n",
    "\n",
    "    bin_mean_volume_per_period = bin_agg_volume / (bin_end_period_excluded - bin_start_period_included)\n",
    "\n",
    "    # If a previous base in this price exists,\n",
    "    # or there is a major different between the previous max volume and this one.\n",
    "    if (bin_last_max_volume >= 0\n",
    "        or (bin_max_volume > algorithm_config.multiplication_threshold * previous_bin_max_volume\n",
    "            and bin_max_volume > algorithm_config.multiplication_threshold * algorithm_config.min_volume_per_period_threshold\n",
    "            and bin_mean_volume_per_period > algorithm_config.min_volume_per_period_threshold)):\n",
    "\n",
    "        moving_overall_bin_max_volume = max(moving_overall_bin_max_volume, bin_max_volume)\n",
    "\n",
    "        if bin_mean_volume_per_period > algorithm_config.min_volume_per_period_threshold:\n",
    "            new_base_score = calculate_base_score(bin_max_volume, bin_last_max_volume, moving_overall_bin_max_volume,\n",
    "                                                  algorithm_config)\n",
    "            if new_base_score >= algorithm_config.min_base_score:\n",
    "                price_bins.set_value(bin_index, base_score_column.column_name, new_base_score)\n",
    "            else:\n",
    "                price_bins.set_value(bin_index, base_score_column.column_name, 0)\n",
    "        else:\n",
    "            price_bins.set_value(bin_index, base_score_column.column_name, 0)\n",
    "\n",
    "        price_bins.set_value(bin_index, last_agg_volume_column.column_name, bin_agg_volume)\n",
    "        price_bins.set_value(bin_index, last_max_volume_column.column_name, bin_max_volume)\n",
    "        price_bins.set_value(bin_index, last_base_price_column.column_name, bin_base_price)\n",
    "\n",
    "    if (bin_max_volume > algorithm_config.multiplication_threshold * previous_bin_max_volume\n",
    "        and bin_max_volume > algorithm_config.multiplication_threshold * algorithm_config.min_volume_per_period_threshold\n",
    "        and bin_mean_volume_per_period > algorithm_config.min_volume_per_period_threshold):\n",
    "\n",
    "        if not (price_bins.at[bin_index, period_start_column.column_name] >= 0):\n",
    "            price_bins.set_value(bin_index, period_start_column.column_name, bin_start_period_included)\n",
    "\n",
    "    if price_bins.at[bin_index, period_start_column.column_name] >= 0:\n",
    "        price_bins.set_value(bin_index, period_end_column.column_name, bin_end_period_excluded)\n",
    "\n",
    "    return moving_overall_bin_max_volume\n"
   ]
  },
  {
   "cell_type": "code",
   "execution_count": 5,
   "metadata": {
    "collapsed": true
   },
   "outputs": [],
   "source": [
    "def update_price_bin_olds_if_bin_change(bin_index, bin_base_price,\n",
    "                                        bin_agg_volume, bin_max_volume,\n",
    "                                        bin_start_period_included, bin_end_period_excluded,\n",
    "                                        previous_bin_index,\n",
    "                                        previous_bin_agg_volume, previous_bin_max_volume,\n",
    "                                        price_bins,\n",
    "                                        algorithm_config, moving_overall_bin_max_volume):\n",
    "    return update_price_bin_if_bin_change(bin_index, bin_base_price,\n",
    "                                          bin_agg_volume, bin_max_volume,\n",
    "                                          bin_start_period_included, bin_end_period_excluded,\n",
    "                                          previous_bin_index,\n",
    "                                          previous_bin_agg_volume, previous_bin_max_volume,\n",
    "                                          price_bins,\n",
    "                                          algorithm_config, moving_overall_bin_max_volume,\n",
    "                                          BinColumns.OLD_BASE_SCORE, BinColumns.OLD_LAST_AGG_VOLUME,\n",
    "                                          BinColumns.OLD_LAST_BASE_PRICE, BinColumns.OLD_LAST_MAX_VOLUME,\n",
    "                                          BinColumns.OLD_ONE_BEFORE_LAST_AGG_VOLUME,\n",
    "                                          BinColumns.OLD_ONE_BEFORE_LAST_MAX_VOLUME,\n",
    "                                          BinColumns.OLD_PERIOD_END, BinColumns.OLD_PERIOD_START)"
   ]
  },
  {
   "cell_type": "code",
   "execution_count": 6,
   "metadata": {
    "collapsed": true
   },
   "outputs": [],
   "source": [
    "def update_price_bin_news_if_bin_change(bin_index, bin_base_price,\n",
    "                                        bin_agg_volume, bin_max_volume,\n",
    "                                        bin_start_period_included, bin_end_period_excluded,\n",
    "                                        previous_bin_index,\n",
    "                                        previous_bin_agg_volume, previous_bin_max_volume,\n",
    "                                        price_bins,\n",
    "                                        algorithm_config, moving_overall_bin_max_volume):\n",
    "    return update_price_bin_if_bin_change(bin_index, bin_base_price,\n",
    "                                          bin_agg_volume, bin_max_volume,\n",
    "                                          bin_start_period_included, bin_end_period_excluded,\n",
    "                                          previous_bin_index,\n",
    "                                          previous_bin_agg_volume, previous_bin_max_volume,\n",
    "                                          price_bins,\n",
    "                                          algorithm_config, moving_overall_bin_max_volume,\n",
    "                                          BinColumns.NEW_BASE_SCORE, BinColumns.NEW_LAST_AGG_VOLUME,\n",
    "                                          BinColumns.NEW_LAST_BASE_PRICE, BinColumns.NEW_LAST_MAX_VOLUME,\n",
    "                                          BinColumns.NEW_ONE_BEFORE_LAST_AGG_VOLUME,\n",
    "                                          BinColumns.NEW_ONE_BEFORE_LAST_MAX_VOLUME,\n",
    "                                          BinColumns.NEW_PERIOD_END, BinColumns.NEW_PERIOD_START)"
   ]
  },
  {
   "cell_type": "code",
   "execution_count": 7,
   "metadata": {
    "collapsed": true
   },
   "outputs": [],
   "source": [
    "def calculate_old_bins_base_score(old_periods, price_bins, algorithm_config, moving_overall_bin_max_volume):\n",
    "    bin_index = -10000\n",
    "    bin_base_price = -10000\n",
    "    bin_agg_volume = -10000\n",
    "    bin_max_volume = -10000\n",
    "    bin_start_period = -10000\n",
    "\n",
    "    previous_bin_index = -10000\n",
    "    previous_bin_agg_volume = -10000\n",
    "    previous_bin_max_volume = -10000\n",
    "\n",
    "    period_index = -10000\n",
    "\n",
    "    for row in old_periods.itertuples():\n",
    "        period_index = row[PeriodColumns.ID.index]\n",
    "        current_volume = row[PeriodColumns.VOLUME.index]\n",
    "        current_bin_index = row[PeriodColumns.BASE_PRICE_BIN.index]\n",
    "\n",
    "        if current_bin_index != bin_index:\n",
    "            # The bin of the current period is a different one that has been being processed.\n",
    "\n",
    "            if bin_index >= 0:\n",
    "                moving_overall_bin_max_volume = update_price_bin_olds_if_bin_change(bin_index, bin_base_price,\n",
    "                                                                                    bin_agg_volume, bin_max_volume,\n",
    "                                                                                    bin_start_period, period_index,\n",
    "                                                                                    previous_bin_index,\n",
    "                                                                                    previous_bin_agg_volume,\n",
    "                                                                                    previous_bin_max_volume,\n",
    "                                                                                    price_bins,\n",
    "                                                                                    algorithm_config,\n",
    "                                                                                    moving_overall_bin_max_volume)\n",
    "\n",
    "                previous_bin_index = bin_index\n",
    "                previous_bin_agg_volume = bin_agg_volume\n",
    "                previous_bin_max_volume = bin_max_volume\n",
    "\n",
    "            bin_index = current_bin_index\n",
    "            bin_base_price = row[PeriodColumns.BASE_PRICE.index]\n",
    "            bin_agg_volume = current_volume\n",
    "            bin_max_volume = current_volume\n",
    "            bin_start_period = period_index\n",
    "\n",
    "        else:\n",
    "            bin_agg_volume += current_volume\n",
    "            bin_max_volume = max(bin_max_volume, current_volume)\n",
    "            if current_volume == bin_max_volume:\n",
    "                bin_base_price = row[PeriodColumns.BASE_PRICE.index]\n",
    "\n",
    "    if bin_index >= 0:\n",
    "        # Bin from the last interaction of the loop above is being updated.\n",
    "        moving_overall_bin_max_volume = update_price_bin_olds_if_bin_change(bin_index, bin_base_price,\n",
    "                                                                            bin_agg_volume, bin_max_volume,\n",
    "                                                                            bin_start_period, period_index + 1,\n",
    "                                                                            previous_bin_index,\n",
    "                                                                            previous_bin_agg_volume,\n",
    "                                                                            previous_bin_max_volume,\n",
    "                                                                            price_bins,\n",
    "                                                                            algorithm_config,\n",
    "                                                                            moving_overall_bin_max_volume)\n",
    "\n",
    "    return price_bins, moving_overall_bin_max_volume\n"
   ]
  },
  {
   "cell_type": "code",
   "execution_count": 8,
   "metadata": {
    "collapsed": true
   },
   "outputs": [],
   "source": [
    "def extract_base_relevant_values_from_bin(bin_index, price_bins):\n",
    "    base_score = price_bins.at[bin_index, BinColumns.OLD_BASE_SCORE.column_name]\n",
    "    last_base_price = price_bins.at[bin_index, BinColumns.OLD_LAST_BASE_PRICE.column_name]\n",
    "    return bin_index, base_score, last_base_price\n"
   ]
  },
  {
   "cell_type": "code",
   "execution_count": 9,
   "metadata": {
    "collapsed": true
   },
   "outputs": [],
   "source": [
    "def calculate_new_bins_base_score_and_invest(new_periods, exchange_platform,\n",
    "                                             price_bin_offset, old_periods,\n",
    "                                             price_bins,\n",
    "                                             algorithm_config, moving_overall_bin_max_volume,\n",
    "                                             currency_pair):\n",
    "    \n",
    "    price_bins[BinColumns.CONTAINS_BUY_ORDER.column_name] = [0 for i in range(len(price_bins))]\n",
    "\n",
    "    # Copies values from OLD_ columns to NEW_ columns in order to keep the context, \n",
    "    price_bins[BinColumns.NEW_LAST_AGG_VOLUME.column_name] = price_bins[BinColumns.OLD_LAST_AGG_VOLUME.column_name]\n",
    "    price_bins[BinColumns.NEW_LAST_MAX_VOLUME.column_name] = price_bins[BinColumns.OLD_LAST_MAX_VOLUME.column_name]\n",
    "    price_bins[BinColumns.NEW_LAST_BASE_PRICE.column_name] = price_bins[BinColumns.OLD_LAST_BASE_PRICE.column_name]\n",
    "    price_bins[BinColumns.NEW_ONE_BEFORE_LAST_AGG_VOLUME.column_name] = price_bins[\n",
    "        BinColumns.OLD_ONE_BEFORE_LAST_AGG_VOLUME.column_name]\n",
    "    price_bins[BinColumns.NEW_ONE_BEFORE_LAST_MAX_VOLUME.column_name] = price_bins[\n",
    "        BinColumns.OLD_ONE_BEFORE_LAST_MAX_VOLUME.column_name]\n",
    "    price_bins[BinColumns.NEW_PERIOD_START.column_name] = price_bins[BinColumns.OLD_PERIOD_START.column_name]\n",
    "    price_bins[BinColumns.NEW_PERIOD_END.column_name] = price_bins[BinColumns.OLD_PERIOD_END.column_name]\n",
    "    price_bins[BinColumns.NEW_BASE_SCORE.column_name] = price_bins[BinColumns.OLD_BASE_SCORE.column_name]\n",
    "\n",
    "    # Retrieves data about the last OLD bin.\n",
    "    bin_index = old_periods[PeriodColumns.BASE_PRICE_BIN.column_name].iloc[-1]\n",
    "    bin_base_price = price_bins.at[bin_index, BinColumns.OLD_LAST_BASE_PRICE.column_name]\n",
    "    bin_agg_volume = price_bins.at[bin_index, BinColumns.OLD_LAST_AGG_VOLUME.column_name]\n",
    "    bin_max_volume = price_bins.at[bin_index, BinColumns.OLD_LAST_MAX_VOLUME.column_name]\n",
    "    bin_start_period = price_bins.at[bin_index, BinColumns.OLD_PERIOD_START.column_name]\n",
    "\n",
    "    # Retrieves data about the one before last OLD bin.\n",
    "    previous_bin_index = price_bins.at[bin_index, BinColumns.LAST_PREVIOUS_BIN_ID.column_name]\n",
    "    previous_bin_agg_volume = price_bins.at[previous_bin_index, BinColumns.OLD_LAST_AGG_VOLUME.column_name]\\\n",
    "        if previous_bin_index >= 0 else 0\n",
    "    previous_bin_max_volume = price_bins.at[previous_bin_index, BinColumns.OLD_LAST_MAX_VOLUME.column_name]\\\n",
    "        if previous_bin_index >= 0 else 0\n",
    "\n",
    "    # Information about the most recent strongest base if any in the last bins.\n",
    "    last_base_bin_index = -10000\n",
    "    last_base_score = -10000\n",
    "    last_base_last_base_price = -10000\n",
    "    if price_bins.at[bin_index, BinColumns.OLD_BASE_SCORE.column_name] > 0:\n",
    "        (last_base_bin_index,\n",
    "         last_base_score,\n",
    "         last_base_last_base_price) = extract_base_relevant_values_from_bin(bin_index, price_bins)\n",
    "    elif previous_bin_index >= 0 and price_bins.at[previous_bin_index, BinColumns.OLD_BASE_SCORE.column_name] > 0:\n",
    "        (last_base_bin_index,\n",
    "         last_base_score,\n",
    "         last_base_last_base_price) = extract_base_relevant_values_from_bin(previous_bin_index, price_bins)\n",
    "\n",
    "    period_index = -10000\n",
    "    current_weighted_average = -10000\n",
    "\n",
    "    for row in new_periods.itertuples():\n",
    "        period_index = row[PeriodColumns.ID.index]\n",
    "        current_volume = row[PeriodColumns.VOLUME.index]\n",
    "        current_base_price = row[PeriodColumns.BASE_PRICE.index]\n",
    "        current_bin_index = calculate_base_price_bin(current_base_price, price_bin_offset)\n",
    "        price_bins = append_new_price_bins(current_bin_index, price_bins)\n",
    "\n",
    "        if current_bin_index != bin_index:\n",
    "            # The bin of the current period is a different one that has been being processed.\n",
    "\n",
    "            if bin_index >= 0:\n",
    "                moving_overall_bin_max_volume = update_price_bin_news_if_bin_change(bin_index, bin_base_price,\n",
    "                                                                                    bin_agg_volume, bin_max_volume,\n",
    "                                                                                    bin_start_period, period_index,\n",
    "                                                                                    previous_bin_index,\n",
    "                                                                                    previous_bin_agg_volume,\n",
    "                                                                                    previous_bin_max_volume,\n",
    "                                                                                    price_bins,\n",
    "                                                                                    algorithm_config,\n",
    "                                                                                    moving_overall_bin_max_volume)\n",
    "\n",
    "                bin_base_score = price_bins.at[bin_index, BinColumns.NEW_BASE_SCORE.column_name]\n",
    "                # The remembered base changes to the most recent one if this is strong enough.\n",
    "                \n",
    "                if bin_base_score > last_base_score / algorithm_config.previous_and_current_base_keep_coefficient\\\n",
    "                        or not (price_bins.at[last_base_bin_index, BinColumns.NEW_BASE_SCORE.column_name] > 0):\n",
    "                    last_base_bin_index = bin_index\n",
    "                    last_base_score = bin_base_score\n",
    "                    last_base_last_base_price = bin_base_price\n",
    "\n",
    "                previous_bin_agg_volume = bin_agg_volume\n",
    "                previous_bin_max_volume = bin_max_volume\n",
    "\n",
    "            bin_index = current_bin_index\n",
    "            bin_base_price = current_base_price\n",
    "            bin_agg_volume = current_volume\n",
    "            bin_max_volume = current_volume\n",
    "            bin_start_period = period_index\n",
    "\n",
    "        else:\n",
    "            bin_agg_volume += current_volume\n",
    "            bin_max_volume = max(bin_max_volume, current_volume)\n",
    "            if current_volume == bin_max_volume:\n",
    "                bin_base_price = current_base_price\n",
    "\n",
    "        current_weighted_average = row[PeriodColumns.WEIGHTED_AVERAGE.index]\n",
    "\n",
    "        exchange_platform.create_buy_order_if_wanted(period_index, current_weighted_average, last_base_score,\n",
    "                                                     last_base_last_base_price, current_bin_index, price_bins,\n",
    "                                                     currency_pair, algorithm_config)\n",
    "        exchange_platform.execute_due_orders(current_weighted_average, period_index, price_bins, currency_pair,\n",
    "                                             algorithm_config)\n",
    "        \n",
    "        exchange_platform.update_old_sell_orders(period_index, algorithm_config)\n",
    "        exchange_platform.execute_due_orders(current_weighted_average, period_index, price_bins, currency_pair,\n",
    "                                             algorithm_config)\n",
    "\n",
    "    if bin_index >= 0:\n",
    "        # Bin from the last interaction of the loop above is being updated.\n",
    "        moving_overall_bin_max_volume = update_price_bin_news_if_bin_change(bin_index, bin_base_price,\n",
    "                                                                            bin_agg_volume, bin_max_volume,\n",
    "                                                                            bin_start_period, period_index + 1,\n",
    "                                                                            previous_bin_index,\n",
    "                                                                            previous_bin_agg_volume,\n",
    "                                                                            previous_bin_max_volume,\n",
    "                                                                            price_bins,\n",
    "                                                                            algorithm_config,\n",
    "                                                                            moving_overall_bin_max_volume)\n",
    "\n",
    "    exchange_platform.execute_due_orders(current_weighted_average, period_index, price_bins, currency_pair,\n",
    "                                         algorithm_config)\n",
    "    \n",
    "    exchange_platform.update_old_sell_orders(period_index, algorithm_config)\n",
    "    exchange_platform.execute_due_orders(current_weighted_average, period_index, price_bins, currency_pair,\n",
    "                                         algorithm_config)\n",
    "\n",
    "    return price_bins, moving_overall_bin_max_volume"
   ]
  },
  {
   "cell_type": "code",
   "execution_count": 10,
   "metadata": {
    "collapsed": true
   },
   "outputs": [],
   "source": [
    "def evaluate_algorithm(old_periods, price_bin_offset, new_periods_json, old_period_count, currency_pair,\n",
    "                       algorithm_config):\n",
    "    now = time.time()\n",
    "    \n",
    "    if trading_fee_decimal > algorithm_config.profit_to_get_back_investment:\n",
    "        print('ERROR: {} ({}) > {} ({}). Must be the other way around in order to'\n",
    "              ' get the initial investment back ASAP'.format('trading_fee_decimal', trading_fee_decimal,\n",
    "                                                             'profit_to_get_back_investment',\n",
    "                                                             algorithm_config.profit_to_get_back_investment))\n",
    "    \n",
    "    price_bins = init_price_bins(algorithm_config.max_old_price_bin_count)\n",
    "    \n",
    "    moving_overall_bin_max_volume = 0\n",
    "    price_bins, moving_overall_bin_max_volume = calculate_old_bins_base_score(old_periods,\n",
    "                                                                              price_bins,\n",
    "                                                                              algorithm_config,\n",
    "                                                                              moving_overall_bin_max_volume)\n",
    "    \n",
    "    new_periods = init_periods(new_periods_json, old_period_count)\n",
    "    \n",
    "    exchange_platform = ExchangePlatform(currency_pair)\n",
    "    exchange_platform.deposit(algorithm_config.initial_base_currency_amount)\n",
    "    price_bins, moving_overall_bin_max_volume = calculate_new_bins_base_score_and_invest(new_periods,\n",
    "                                                                                         exchange_platform,\n",
    "                                                                                         price_bin_offset,\n",
    "                                                                                         old_periods,\n",
    "                                                                                         price_bins,\n",
    "                                                                                         algorithm_config,\n",
    "                                                                                         moving_overall_bin_max_volume,\n",
    "                                                                                         currency_pair)\n",
    "    \n",
    "    print('{}={}'.format('elapsed_time of evaluate_algorithm', time.time() - now))\n",
    "    \n",
    "    return new_periods, exchange_platform, price_bins, moving_overall_bin_max_volume"
   ]
  },
  {
   "cell_type": "code",
   "execution_count": 11,
   "metadata": {
    "collapsed": true
   },
   "outputs": [],
   "source": [
    "def draw_base_if_exists(price_bin, plt,\n",
    "                        base_score_column, last_base_price_column, period_start_column, period_end_column,\n",
    "                        drawing_period_count_offset=0):\n",
    "    if price_bin[base_score_column.column_name] > 0:\n",
    "        current_base_price = price_bin[last_base_price_column.column_name]\n",
    "        line_width = (price_bin[base_score_column.column_name] / 0.3).astype('int') + 1\n",
    "\n",
    "        # start is included, end is excluded\n",
    "        plt.plot([price_bin[period_start_column.column_name] - drawing_period_count_offset,\n",
    "                  price_bin[period_end_column.column_name] - 1 + drawing_period_count_offset],\n",
    "                 [current_base_price, current_base_price],\n",
    "                 color='purple', linewidth=line_width, label=current_base_price)\n",
    "\n",
    "\n",
    "def draw_graph(old_periods, new_periods, total_period_count, old_new_border_period, exchange_platform, price_bins):\n",
    "    plt.rcParams['figure.figsize'] = (50, 25)\n",
    "\n",
    "    plt.plot(old_periods[PeriodColumns.WEIGHTED_AVERAGE.column_name])\n",
    "    plt.plot(new_periods[PeriodColumns.WEIGHTED_AVERAGE.column_name])\n",
    "    plt.plot([old_new_border_period, old_new_border_period],\n",
    "             plt.gca().get_ylim(),\n",
    "             color='grey')\n",
    "\n",
    "    for index, row in price_bins.iterrows():\n",
    "        draw_base_if_exists(row, plt, BinColumns.OLD_BASE_SCORE, BinColumns.OLD_LAST_BASE_PRICE,\n",
    "                            BinColumns.OLD_PERIOD_START, BinColumns.OLD_PERIOD_END)\n",
    "        draw_base_if_exists(row, plt, BinColumns.NEW_BASE_SCORE, BinColumns.NEW_LAST_BASE_PRICE,\n",
    "                            BinColumns.NEW_PERIOD_START, BinColumns.NEW_PERIOD_END)\n",
    "\n",
    "    [order_execution.draw(plt) for order_execution in exchange_platform.trading_history.order_executions]\n",
    "    [order.draw(plt, total_period_count=total_period_count) for order\n",
    "     in exchange_platform.outstanding_order_manager.orders]\n",
    "\n",
    "    plt.grid()\n",
    "    plt.show()\n",
    "\n",
    "\n",
    "def print_bins_result_debug_info(price_bins):\n",
    "    print('\\nPRICE BINS - OLD:')\n",
    "    for index, row in price_bins.iterrows():\n",
    "        if row[BinColumns.OLD_BASE_SCORE.column_name] > 0 and row[BinColumns.NEW_BASE_SCORE.column_name] == 0:\n",
    "            print(\n",
    "                '{}={:3.0f}, {}={:10.0f}, {}={:6.2f}, {}={:6.2f}, {}={:8.2f}, {}={:8.2f}, {}={:.2f}, {}={:.2f}'\n",
    "                .format(\n",
    "                    'bin', index,\n",
    "                    'aggVol', row[BinColumns.AGG_VOLUME.column_name],\n",
    "                    'oPrc', row[BinColumns.OLD_LAST_BASE_PRICE.column_name],\n",
    "                    'nPrc', row[BinColumns.NEW_LAST_BASE_PRICE.column_name],\n",
    "                    'oMaxVol', row[BinColumns.OLD_LAST_MAX_VOLUME.column_name],\n",
    "                    'nMaxVol', row[BinColumns.NEW_LAST_MAX_VOLUME.column_name],\n",
    "                    'oScr', row[BinColumns.OLD_BASE_SCORE.column_name],\n",
    "                    'nScr', row[BinColumns.NEW_BASE_SCORE.column_name]))\n",
    "\n",
    "    print('\\nPRICE BINS - NEW:')\n",
    "    for index, row in price_bins.iterrows():\n",
    "        if row[BinColumns.NEW_BASE_SCORE.column_name] > 0:\n",
    "            print(\n",
    "                '{}={:3.0f}, {}={:10.0f}, {}={:6.2f}, {}={:6.2f}, {}={:8.2f}, {}={:8.2f}, {}={:.2f}, {}={:.2f}'\n",
    "                .format(\n",
    "                    'bin', index,\n",
    "                    'aggVol', row[BinColumns.AGG_VOLUME.column_name],\n",
    "                    'oPrc', row[BinColumns.OLD_LAST_BASE_PRICE.column_name],\n",
    "                    'nPrc', row[BinColumns.NEW_LAST_BASE_PRICE.column_name],\n",
    "                    'oMaxVol', row[BinColumns.OLD_LAST_MAX_VOLUME.column_name],\n",
    "                    'nMaxVol', row[BinColumns.NEW_LAST_MAX_VOLUME.column_name],\n",
    "                    'oScr', row[BinColumns.OLD_BASE_SCORE.column_name],\n",
    "                    'nScr', row[BinColumns.NEW_BASE_SCORE.column_name]))\n",
    "\n",
    "\n",
    "def get_current_price(new_periods):\n",
    "    return new_periods[PeriodColumns.CLOSE.column_name].iloc[-1]\n",
    "\n",
    "\n",
    "def print_verbose_result_with_graph(old_periods, new_periods, total_period_count, old_period_count,\n",
    "                                    exchange_platform, price_bins, moving_overall_bin_max_volume):\n",
    "    now = time.time()\n",
    "\n",
    "    draw_graph(old_periods, new_periods, total_period_count, old_period_count, exchange_platform, price_bins)\n",
    "\n",
    "    print('{}={:9.0f}'.format('moving_overall_bin_max_volume', moving_overall_bin_max_volume))\n",
    "    print_bins_result_debug_info(price_bins)\n",
    "\n",
    "    current_price = get_current_price(new_periods)\n",
    "    print(exchange_platform.to_string(current_price))\n",
    "\n",
    "    print('{}={}'.format('elapsed_time of print_verbose_result_with_graph', time.time() - now))\n",
    "\n",
    "\n",
    "def print_wallet(exchange_platform, new_periods, algorithm_config):\n",
    "    current_price = get_current_price(new_periods)\n",
    "    print('{} [{}]\\n'.format(exchange_platform.wallet.to_string(current_price), algorithm_config))"
   ]
  },
  {
   "cell_type": "code",
   "execution_count": 21,
   "metadata": {
    "collapsed": true
   },
   "outputs": [],
   "source": [
    "class CurrencyPairOneTimeFrameEvaluator:\n",
    "    def __init__(self, currency_pair, period_size_in_sec):\n",
    "        self.currency_pair = currency_pair\n",
    "        self.period_size_in_sec = period_size_in_sec\n",
    "        self.result_list = []\n",
    "\n",
    "    def create_config_and_evaluate_algorithm(self, base_recognition_coefficient,\n",
    "                                             max_base_score, volume_unit_target_currency_to_buy_in_percents,\n",
    "                                             old_periods_json, new_periods_json, total_period_count, old_period_count,\n",
    "                                             max_old_price_bin_count):\n",
    "        old_periods, price_bin_offset = init_old_periods(old_periods_json, max_old_price_bin_count)\n",
    "\n",
    "        median_volume = old_periods[PeriodColumns.VOLUME.column_name].median()\n",
    "        mean_volume = old_periods[PeriodColumns.VOLUME.column_name].mean()\n",
    "        multiplication_threshold = base_recognition_coefficient * mean_volume / median_volume\n",
    "        min_volume_per_period_threshold = mean_volume\n",
    "        algorithm_config = AlgorithmConfig(max_base_score, volume_unit_target_currency_to_buy_in_percents,\n",
    "                                           multiplication_threshold, min_volume_per_period_threshold,\n",
    "                                           max_old_price_bin_count, self.period_size_in_sec)\n",
    "        print(algorithm_config)\n",
    "\n",
    "        new_periods, exchange_platform, price_bins, moving_overall_bin_max_volume = evaluate_algorithm(\n",
    "            old_periods, price_bin_offset, new_periods_json, old_period_count, self.currency_pair, algorithm_config)\n",
    "\n",
    "        # print_verbose_result_with_graph(old_periods, new_periods, total_period_count, old_period_count,\n",
    "        #                                 exchange_platform, price_bins, moving_overall_bin_max_volume)\n",
    "        print_wallet(exchange_platform, new_periods, algorithm_config)\n",
    "\n",
    "        current_price = get_current_price(new_periods)\n",
    "        target_coin_price_devaluated = current_price * 0.8\n",
    "        wallet_value_in_base_currency = exchange_platform.wallet.get_total_in_base_currency(target_coin_price_devaluated)\n",
    "        profit_in_percents = self.calculate_profit(wallet_value_in_base_currency,\n",
    "                                                   algorithm_config.initial_base_currency_amount)\n",
    "\n",
    "        return (max_old_price_bin_count, max_base_score, base_recognition_coefficient,\n",
    "                volume_unit_target_currency_to_buy_in_percents, profit_in_percents)\n",
    "        \n",
    "    @staticmethod\n",
    "    def calculate_profit(balance, investment):\n",
    "        one_percent = investment / 100\n",
    "        return (balance - investment) / one_percent\n",
    "\n",
    "    def process_result(self, result_tuple):\n",
    "        # This is called whenever create_config_and_evaluate_algorithm(..) returns a result.\n",
    "        # result_list is modified only by the main process, not by the pool workers.\n",
    "        self.result_list.append(result_tuple)\n",
    "        \n",
    "    @staticmethod\n",
    "    def handle_error(error):\n",
    "        print('ERROR={}'.format(error))\n",
    "\n",
    "\n",
    "class CurrencyPairEvaluator:\n",
    "    def __init__(self, currency_pair):\n",
    "        self.currency_pair = currency_pair\n",
    "    \n",
    "    def evaluate_one_time_frame_and_draw_and_close(self, new_week_count):\n",
    "        result_list_param, graph_thread = self.evaluate_one_time_frame_and_draw(new_week_count)\n",
    "        graph_thread.join()\n",
    "        \n",
    "    def evaluate_multiple_time_frames_and_draw(self, new_week_counts_and_offsets):\n",
    "        print('\\nevaluate_multiple_time_frames_and_draw [thread={}]\\n'.format(threading.current_thread()))\n",
    "        \n",
    "        result_dict = {}\n",
    "        graph_threads = []\n",
    "        for new_week_count, new_week_offset in new_week_counts_and_offsets:\n",
    "            result_tuple_param = self.evaluate((new_week_count, new_week_offset))\n",
    "            offset_result_dict = result_dict.setdefault(new_week_count, {})\n",
    "            offset_result_dict.update({new_week_offset: result_tuple_param})\n",
    "        \n",
    "        aggregated_result_list = self.aggregate_result_lists(result_dict)\n",
    "        \n",
    "        max_profit = self.determine_max_profit_in_result_list(aggregated_result_list)\n",
    "        tuples_with_good_profit_list = self.determine_tuples_with_good_profit(aggregated_result_list, max_profit)\n",
    "        self.print_result_tuples_with_good_profit(tuples_with_good_profit_list, max_profit)\n",
    "        \n",
    "        aggregated_result_list_3d = self.convert_result_list_to_3d(aggregated_result_list)\n",
    "        graph_thread = self.draw_profit_graph_in_new_thread(aggregated_result_list_3d)\n",
    "        graph_threads.append(graph_thread)\n",
    "        graph_thread.join()\n",
    "\n",
    "    def evaluate_one_time_frame_and_draw(self, new_week_count_and_offset):\n",
    "        print('\\nevaluate_one_time_frame_and_draw [thread={}]\\n'.format(threading.current_thread()))\n",
    "        \n",
    "        result_list_param = self.evaluate(new_week_count_and_offset)\n",
    "        \n",
    "        max_profit = self.determine_max_profit_in_result_list(result_list_param)\n",
    "        tuples_with_good_profit_list = self.determine_tuples_with_good_profit(result_list_param, max_profit)\n",
    "        self.print_result_tuples_with_good_profit(tuples_with_good_profit_list, max_profit)\n",
    "        \n",
    "        result_list_param_3d = self.convert_result_list_to_3d(result_list_param)\n",
    "        graph_thread = self.draw_profit_graph_in_new_thread(result_list_param_3d)\n",
    "        return result_list_param, graph_thread\n",
    "        \n",
    "    def evaluate(self, new_week_count_and_offset):\n",
    "        period_size_in_sec = 900\n",
    "        one_time_frame_evaluator = CurrencyPairOneTimeFrameEvaluator(self.currency_pair, period_size_in_sec)\n",
    "        old_periods_json, new_periods_json, total_period_count, old_period_count = fetch_periods_prices_jsons(\n",
    "            currency_pair, old_week_count, new_week_count_and_offset[0], new_week_count_and_offset[1],\n",
    "            period_size_in_sec)\n",
    "\n",
    "        pool = Pool(processes=7)\n",
    "        for max_old_price_bin_count in np.linspace(100, 200, num=2):  # NOTE\n",
    "            for max_base_score_param in np.linspace(1.5, 2.5, num=1):  # NOTE\n",
    "                for base_recognition_coefficient_param in np.linspace(1, 4, num=1):  # NOTE\n",
    "                    for volume_unit_target_currency_to_buy_in_percents_param in np.linspace(0.1, 2, num=2):  # NOTE\n",
    "                        pool.apply_async(func=one_time_frame_evaluator.create_config_and_evaluate_algorithm,\n",
    "                                         args=(base_recognition_coefficient_param, max_base_score_param,\n",
    "                                               volume_unit_target_currency_to_buy_in_percents_param,\n",
    "                                               old_periods_json, new_periods_json,\n",
    "                                               total_period_count, old_period_count,\n",
    "                                               int(max_old_price_bin_count)),\n",
    "                                         callback=one_time_frame_evaluator.process_result,\n",
    "                                         error_callback=one_time_frame_evaluator.handle_error)\n",
    "\n",
    "        pool.close()\n",
    "        pool.join()\n",
    "        return one_time_frame_evaluator.result_list\n",
    "        \n",
    "    def aggregate_result_lists(self, input_result_dict):\n",
    "        \n",
    "        temp_result_dict = {}\n",
    "        for new_week_count, offset_result_dict in input_result_dict.items():\n",
    "            for new_week_offset, result_list_param in offset_result_dict.items():\n",
    "                max_profit = self.determine_max_profit_in_result_list(result_list_param)\n",
    "                for (current_max_old_price_bin_count, current_max_base_score, current_base_recognition_coefficient,\n",
    "                     current_volume_unit_target_currency_to_buy_in_percents, current_profit_in_percents) in result_list_param:\n",
    "                    \n",
    "                    temp_max_base_score_dict = temp_result_dict.setdefault(\n",
    "                        current_max_old_price_bin_count, {})\n",
    "                    \n",
    "                    temp_base_recognition_coefficient_dict = temp_max_base_score_dict.setdefault(\n",
    "                        current_max_base_score, {})\n",
    "                    \n",
    "                    temp_volume_unit_target_currency_to_buy_in_percents_dict = temp_base_recognition_coefficient_dict.setdefault(\n",
    "                        current_base_recognition_coefficient, {})\n",
    "                    \n",
    "                    existing_profit = temp_volume_unit_target_currency_to_buy_in_percents_dict.setdefault(\n",
    "                        current_volume_unit_target_currency_to_buy_in_percents, 0.0)\n",
    "                    \n",
    "                    normalized_profit = current_profit_in_percents / max_profit if max_profit > 0 else 0.0\n",
    "                    temp_volume_unit_target_currency_to_buy_in_percents_dict.update({\n",
    "                        current_volume_unit_target_currency_to_buy_in_percents: existing_profit + normalized_profit})\n",
    "        \n",
    "        result_list = []\n",
    "        for current_max_old_price_bin_count, temp_max_base_score_dict in temp_result_dict.items():\n",
    "            for current_max_base_score, temp_base_recognition_coefficient_dict in temp_max_base_score_dict.items():\n",
    "                for current_base_recognition_coefficient, temp_volume_unit_target_currency_to_buy_in_percents_dict\\\n",
    "                        in temp_base_recognition_coefficient_dict.items():\n",
    "                    for current_volume_unit_target_currency_to_buy_in_percents, profit_sum\\\n",
    "                            in temp_volume_unit_target_currency_to_buy_in_percents_dict.items():\n",
    "                        result_list.append((current_max_old_price_bin_count,\n",
    "                                            current_max_base_score,\n",
    "                                            current_base_recognition_coefficient,\n",
    "                                            current_volume_unit_target_currency_to_buy_in_percents,\n",
    "                                            profit_sum))\n",
    "        return result_list\n",
    "    \n",
    "    @staticmethod\n",
    "    def determine_max_profit_in_result_list(result_list_param):\n",
    "        return max([profit_in_percents\n",
    "                    for (max_old_price_bin_count, max_base_score, base_recognition_coefficient,\n",
    "                         volume_unit_target_currency_to_buy_in_percents, profit_in_percents)\n",
    "                    in result_list_param])\n",
    "    \n",
    "    @staticmethod\n",
    "    def determine_tuples_with_good_profit(result_list_param, max_profit):\n",
    "        return [(max_old_price_bin_count, max_base_score, base_recognition_coefficient,\n",
    "                 volume_unit_target_currency_to_buy_in_percents, profit_in_percents)\n",
    "                for (max_old_price_bin_count, max_base_score, base_recognition_coefficient,\n",
    "                     volume_unit_target_currency_to_buy_in_percents, profit_in_percents)\n",
    "                in result_list_param\n",
    "                if profit_in_percents > max_profit * 0.9]\n",
    "    \n",
    "    @staticmethod\n",
    "    def print_result_tuples_with_good_profit(tuples_with_good_profit_list, max_profit):\n",
    "        tuples_with_good_profit_pandas = seq(tuples_with_good_profit_list).to_pandas(columns=[\n",
    "            'max_old_price_bin_count', 'max_base_score', 'base_recognition_coefficient',\n",
    "            'volume_unit_target_currency_to_buy [%]', 'profit'])\n",
    "        print('max_profit={}\\ntuples_with_good_profit={}'.format(max_profit, tuples_with_good_profit_pandas))\n",
    "        \n",
    "    @staticmethod\n",
    "    def convert_result_list_to_3d(result_list_param):\n",
    "        return [(base_recognition_coefficient, volume_unit_target_currency_to_buy_in_percents, profit_in_percents)\n",
    "                for (max_old_price_bin_count, max_base_score, base_recognition_coefficient,\n",
    "                     volume_unit_target_currency_to_buy_in_percents, profit_in_percents)\n",
    "                in result_list_param]\n",
    "        \n",
    "    def draw_profit_graph_in_new_thread(self, result_list_param):\n",
    "        # Comma in args necessary in order to pass result_list_param as a list, not \"unbox\" it and pass it as a tuple.\n",
    "        graph_thread = threading.Thread(target=self.draw_profit_graph, args=(result_list_param,))\n",
    "        graph_thread.start()\n",
    "        return graph_thread\n",
    "        \n",
    "    @staticmethod\n",
    "    def draw_profit_graph(result_list_param):\n",
    "        print('\\ndraw_profit_graph [thread={}]\\n'.format(threading.current_thread()))\n",
    "        \n",
    "        max_base_score_list = [i[0] for i in result_list_param]\n",
    "        volume_unit_target_currency_to_buy_in_percents_list = [i[1] for i in result_list_param]\n",
    "        profit_in_percents_list = [i[2] for i in result_list_param]\n",
    "    \n",
    "        fig = plt.figure()\n",
    "        ax = fig.add_subplot(111, projection='3d')\n",
    "        ax.scatter(max_base_score_list, volume_unit_target_currency_to_buy_in_percents_list,\n",
    "                   profit_in_percents_list, marker='o', s=30)\n",
    "        ax.set_xlabel('base_recognition_coefficient_param')\n",
    "        ax.set_ylabel('volume_unit_target_currency_to_buy [%]')\n",
    "        ax.set_zlabel('normalized_profit')\n",
    "        plt.show()"
   ]
  },
  {
   "cell_type": "code",
   "execution_count": 22,
   "metadata": {
    "collapsed": true
   },
   "outputs": [
    {
     "name": "stdout",
     "output_type": "stream",
     "text": [
      "\nevaluate_multiple_time_frames_and_draw [thread=<_MainThread(MainThread, started 139993933473536)>]\n\ncurrency_pair=USDT_XMR\n"
     ]
    },
    {
     "name": "stdout",
     "output_type": "stream",
     "text": [
      "https://poloniex.com/public?command=returnChartData&start=1495558209.0&currencyPair=USDT_XMR&end=1500396609.0&period=900\n"
     ]
    },
    {
     "name": "stdout",
     "output_type": "stream",
     "text": [
      "https://poloniex.com/public?command=returnChartData&start=1500396609.0&currencyPair=USDT_XMR&end=1503420609.0&period=900\n"
     ]
    },
    {
     "name": "stdout",
     "output_type": "stream",
     "text": [
      "max_base_score=1.5, volume_unit_target_currency_to_buy_in_percents=0.1, multiplication_threshold=2.838362247575127, min_volume_per_period_threshold=9487.058095312519, max_old_price_bin_count=100\n"
     ]
    },
    {
     "name": "stdout",
     "output_type": "stream",
     "text": [
      "max_base_score=1.5, volume_unit_target_currency_to_buy_in_percents=2.0, multiplication_threshold=2.838362247575127, min_volume_per_period_threshold=9487.058095312519, max_old_price_bin_count=100\n"
     ]
    },
    {
     "name": "stdout",
     "output_type": "stream",
     "text": [
      "max_base_score=1.5, volume_unit_target_currency_to_buy_in_percents=0.1, multiplication_threshold=2.838362247575127, min_volume_per_period_threshold=9487.058095312519, max_old_price_bin_count=200\n"
     ]
    },
    {
     "name": "stdout",
     "output_type": "stream",
     "text": [
      "max_base_score=1.5, volume_unit_target_currency_to_buy_in_percents=2.0, multiplication_threshold=2.838362247575127, min_volume_per_period_threshold=9487.058095312519, max_old_price_bin_count=200\n"
     ]
    },
    {
     "name": "stdout",
     "output_type": "stream",
     "text": [
      "elapsed_time of evaluate_algorithm=3.547095537185669\n"
     ]
    },
    {
     "name": "stdout",
     "output_type": "stream",
     "text": [
      "WALLET: USDT  100.3680, XMR    0.0003 => in total USDT  100.3947, spent on fees USDT    0.0280 [max_base_score=1.5, volume_unit_target_currency_to_buy_in_percents=0.1, multiplication_threshold=2.838362247575127, min_volume_per_period_threshold=9487.058095312519, max_old_price_bin_count=100]\n"
     ]
    },
    {
     "name": "stdout",
     "output_type": "stream",
     "text": [
      "\n"
     ]
    },
    {
     "name": "stdout",
     "output_type": "stream",
     "text": [
      "elapsed_time of evaluate_algorithm=3.751866340637207\n"
     ]
    },
    {
     "name": "stdout",
     "output_type": "stream",
     "text": [
      "WALLET: USDT  106.2922, XMR    0.0054 => in total USDT  106.7636, spent on fees USDT    0.4906 [max_base_score=1.5, volume_unit_target_currency_to_buy_in_percents=2.0, multiplication_threshold=2.838362247575127, min_volume_per_period_threshold=9487.058095312519, max_old_price_bin_count=100]\n"
     ]
    },
    {
     "name": "stdout",
     "output_type": "stream",
     "text": [
      "\n"
     ]
    },
    {
     "name": "stdout",
     "output_type": "stream",
     "text": [
      "elapsed_time of evaluate_algorithm=3.8713362216949463\n"
     ]
    },
    {
     "name": "stdout",
     "output_type": "stream",
     "text": [
      "WALLET: USDT  106.8010, XMR    0.0068 => in total USDT  107.3939, spent on fees USDT    0.6074 [max_base_score=1.5, volume_unit_target_currency_to_buy_in_percents=2.0, multiplication_threshold=2.838362247575127, min_volume_per_period_threshold=9487.058095312519, max_old_price_bin_count=200]\n"
     ]
    },
    {
     "name": "stdout",
     "output_type": "stream",
     "text": [
      "\n"
     ]
    },
    {
     "name": "stdout",
     "output_type": "stream",
     "text": [
      "elapsed_time of evaluate_algorithm=3.923123359680176\n"
     ]
    },
    {
     "name": "stdout",
     "output_type": "stream",
     "text": [
      "WALLET: USDT  100.3399, XMR    0.0003 => in total USDT  100.3694, spent on fees USDT    0.0301 [max_base_score=1.5, volume_unit_target_currency_to_buy_in_percents=0.1, multiplication_threshold=2.838362247575127, min_volume_per_period_threshold=9487.058095312519, max_old_price_bin_count=200]\n"
     ]
    },
    {
     "name": "stdout",
     "output_type": "stream",
     "text": [
      "\n"
     ]
    },
    {
     "name": "stdout",
     "output_type": "stream",
     "text": [
      "currency_pair=USDT_XMR\n"
     ]
    },
    {
     "name": "stdout",
     "output_type": "stream",
     "text": [
      "https://poloniex.com/public?command=returnChartData&start=1497372617.0&currencyPair=USDT_XMR&end=1502211017.0&period=900\n"
     ]
    },
    {
     "name": "stdout",
     "output_type": "stream",
     "text": [
      "https://poloniex.com/public?command=returnChartData&start=1502211017.0&currencyPair=USDT_XMR&end=1505235017.0&period=900\n"
     ]
    },
    {
     "name": "stdout",
     "output_type": "stream",
     "text": [
      "max_base_score=1.5, volume_unit_target_currency_to_buy_in_percents=2.0, multiplication_threshold=2.91894781234364, min_volume_per_period_threshold=7874.468622143857, max_old_price_bin_count=100\n"
     ]
    },
    {
     "name": "stdout",
     "output_type": "stream",
     "text": [
      "max_base_score=1.5, volume_unit_target_currency_to_buy_in_percents=0.1, multiplication_threshold=2.91894781234364, min_volume_per_period_threshold=7874.468622143857, max_old_price_bin_count=200\n"
     ]
    },
    {
     "name": "stdout",
     "output_type": "stream",
     "text": [
      "max_base_score=1.5, volume_unit_target_currency_to_buy_in_percents=0.1, multiplication_threshold=2.91894781234364, min_volume_per_period_threshold=7874.468622143857, max_old_price_bin_count=100\n"
     ]
    },
    {
     "name": "stdout",
     "output_type": "stream",
     "text": [
      "max_base_score=1.5, volume_unit_target_currency_to_buy_in_percents=2.0, multiplication_threshold=2.91894781234364, min_volume_per_period_threshold=7874.468622143857, max_old_price_bin_count=200\n"
     ]
    },
    {
     "name": "stdout",
     "output_type": "stream",
     "text": [
      "Not enough USDT in period 7866.0 [currPrice=115.27, wantedVol=  0.090]\n"
     ]
    },
    {
     "name": "stdout",
     "output_type": "stream",
     "text": [
      "Not enough USDT in period 7871.0 [currPrice=118.31, wantedVol=  0.085]\n"
     ]
    },
    {
     "name": "stdout",
     "output_type": "stream",
     "text": [
      "Not enough USDT in period 7875.0 [currPrice=120.35, wantedVol=  0.048]\n"
     ]
    },
    {
     "name": "stdout",
     "output_type": "stream",
     "text": [
      "Not enough USDT in period 7889.0 [currPrice=123.00, wantedVol=  0.002]\n"
     ]
    },
    {
     "name": "stdout",
     "output_type": "stream",
     "text": [
      "Not enough USDT in period 7890.0 [currPrice=123.06, wantedVol=  0.001]\n"
     ]
    },
    {
     "name": "stdout",
     "output_type": "stream",
     "text": [
      "Not enough USDT in period 7950.0 [currPrice=106.45, wantedVol=  0.101]\n"
     ]
    },
    {
     "name": "stdout",
     "output_type": "stream",
     "text": [
      "Not enough USDT in period 7951.0 [currPrice=106.79, wantedVol=  0.101]\n"
     ]
    },
    {
     "name": "stdout",
     "output_type": "stream",
     "text": [
      "Not enough USDT in period 7952.0 [currPrice=105.96, wantedVol=  0.101]\n"
     ]
    },
    {
     "name": "stdout",
     "output_type": "stream",
     "text": [
      "Not enough USDT in period 7956.0 [currPrice=105.54, wantedVol=  0.101]\n"
     ]
    },
    {
     "name": "stdout",
     "output_type": "stream",
     "text": [
      "Not enough USDT in period 7959.0 [currPrice=101.81, wantedVol=  0.101]\n"
     ]
    },
    {
     "name": "stdout",
     "output_type": "stream",
     "text": [
      "Not enough USDT in period 7960.0 [currPrice=100.60, wantedVol=  0.101]\n"
     ]
    },
    {
     "name": "stdout",
     "output_type": "stream",
     "text": [
      "Not enough USDT in period 7961.0 [currPrice=101.15, wantedVol=  0.101]\n"
     ]
    },
    {
     "name": "stdout",
     "output_type": "stream",
     "text": [
      "Not enough USDT in period 7962.0 [currPrice= 99.57, wantedVol=  0.101]\n"
     ]
    },
    {
     "name": "stdout",
     "output_type": "stream",
     "text": [
      "Not enough USDT in period 7963.0 [currPrice=101.88, wantedVol=  0.101]\n"
     ]
    },
    {
     "name": "stdout",
     "output_type": "stream",
     "text": [
      "Not enough USDT in period 7964.0 [currPrice=102.14, wantedVol=  0.101]\n"
     ]
    },
    {
     "name": "stdout",
     "output_type": "stream",
     "text": [
      "Not enough USDT in period 7965.0 [currPrice=102.87, wantedVol=  0.101]\n"
     ]
    },
    {
     "name": "stdout",
     "output_type": "stream",
     "text": [
      "Not enough USDT in period 7967.0 [currPrice=100.10, wantedVol=  0.101]\n"
     ]
    },
    {
     "name": "stdout",
     "output_type": "stream",
     "text": [
      "Not enough USDT in period 7969.0 [currPrice=101.85, wantedVol=  0.101]\n"
     ]
    },
    {
     "name": "stdout",
     "output_type": "stream",
     "text": [
      "Not enough USDT in period 7972.0 [currPrice=101.40, wantedVol=  0.101]\n"
     ]
    },
    {
     "name": "stdout",
     "output_type": "stream",
     "text": [
      "Not enough USDT in period 7976.0 [currPrice=107.62, wantedVol=  0.101]\n"
     ]
    },
    {
     "name": "stdout",
     "output_type": "stream",
     "text": [
      "elapsed_time of evaluate_algorithm=4.225452423095703\n"
     ]
    },
    {
     "name": "stdout",
     "output_type": "stream",
     "text": [
      "WALLET: USDT  101.5524, XMR    0.0321 => in total USDT  105.1865, spent on fees USDT    0.2512 [max_base_score=1.5, volume_unit_target_currency_to_buy_in_percents=0.1, multiplication_threshold=2.91894781234364, min_volume_per_period_threshold=7874.468622143857, max_old_price_bin_count=100]\n"
     ]
    },
    {
     "name": "stdout",
     "output_type": "stream",
     "text": [
      "\n"
     ]
    },
    {
     "name": "stdout",
     "output_type": "stream",
     "text": [
      "Not enough USDT in period 8530.0 [currPrice=109.06, wantedVol=  0.113]\n"
     ]
    },
    {
     "name": "stdout",
     "output_type": "stream",
     "text": [
      "Not enough USDT in period 8533.0 [currPrice=110.01, wantedVol=  0.086]\n"
     ]
    },
    {
     "name": "stdout",
     "output_type": "stream",
     "text": [
      "elapsed_time of evaluate_algorithm=4.79750919342041\n"
     ]
    },
    {
     "name": "stdout",
     "output_type": "stream",
     "text": [
      "WALLET: USDT   78.1876, XMR    0.4575 => in total USDT  129.9730, spent on fees USDT    2.2246 [max_base_score=1.5, volume_unit_target_currency_to_buy_in_percents=2.0, multiplication_threshold=2.91894781234364, min_volume_per_period_threshold=7874.468622143857, max_old_price_bin_count=100]\n"
     ]
    },
    {
     "name": "stdout",
     "output_type": "stream",
     "text": [
      "\n"
     ]
    },
    {
     "name": "stdout",
     "output_type": "stream",
     "text": [
      "Not enough USDT in period 8495.0 [currPrice=109.84, wantedVol=  0.084]\n"
     ]
    },
    {
     "name": "stdout",
     "output_type": "stream",
     "text": [
      "Not enough USDT in period 8496.0 [currPrice=106.86, wantedVol=  0.103]\n"
     ]
    },
    {
     "name": "stdout",
     "output_type": "stream",
     "text": [
      "Not enough USDT in period 8497.0 [currPrice=106.38, wantedVol=  0.103]\n"
     ]
    },
    {
     "name": "stdout",
     "output_type": "stream",
     "text": [
      "Not enough USDT in period 8498.0 [currPrice=107.05, wantedVol=  0.103]\n"
     ]
    },
    {
     "name": "stdout",
     "output_type": "stream",
     "text": [
      "Not enough USDT in period 8499.0 [currPrice=106.66, wantedVol=  0.103]\n"
     ]
    },
    {
     "name": "stdout",
     "output_type": "stream",
     "text": [
      "Not enough USDT in period 8501.0 [currPrice=105.32, wantedVol=  0.103]\n"
     ]
    },
    {
     "name": "stdout",
     "output_type": "stream",
     "text": [
      "Not enough USDT in period 8502.0 [currPrice=104.95, wantedVol=  0.103]\n"
     ]
    },
    {
     "name": "stdout",
     "output_type": "stream",
     "text": [
      "Not enough USDT in period 8504.0 [currPrice=104.96, wantedVol=  0.103]\n"
     ]
    },
    {
     "name": "stdout",
     "output_type": "stream",
     "text": [
      "Not enough USDT in period 8505.0 [currPrice=104.72, wantedVol=  0.103]\n"
     ]
    },
    {
     "name": "stdout",
     "output_type": "stream",
     "text": [
      "Not enough USDT in period 8506.0 [currPrice=106.19, wantedVol=  0.103]\n"
     ]
    },
    {
     "name": "stdout",
     "output_type": "stream",
     "text": [
      "Not enough USDT in period 8507.0 [currPrice=106.37, wantedVol=  0.103]\n"
     ]
    },
    {
     "name": "stdout",
     "output_type": "stream",
     "text": [
      "Not enough USDT in period 8508.0 [currPrice=106.88, wantedVol=  0.103]\n"
     ]
    },
    {
     "name": "stdout",
     "output_type": "stream",
     "text": [
      "Not enough USDT in period 8509.0 [currPrice=107.82, wantedVol=  0.103]\n"
     ]
    },
    {
     "name": "stdout",
     "output_type": "stream",
     "text": [
      "Not enough USDT in period 8517.0 [currPrice=106.12, wantedVol=  0.103]\n"
     ]
    },
    {
     "name": "stdout",
     "output_type": "stream",
     "text": [
      "Not enough USDT in period 8526.0 [currPrice=108.12, wantedVol=  0.103]\n"
     ]
    },
    {
     "name": "stdout",
     "output_type": "stream",
     "text": [
      "Not enough USDT in period 8527.0 [currPrice=108.31, wantedVol=  0.103]\n"
     ]
    },
    {
     "name": "stdout",
     "output_type": "stream",
     "text": [
      "Not enough USDT in period 8530.0 [currPrice=109.06, wantedVol=  0.103]\n"
     ]
    },
    {
     "name": "stdout",
     "output_type": "stream",
     "text": [
      "Not enough USDT in period 8533.0 [currPrice=110.01, wantedVol=  0.079]\n"
     ]
    },
    {
     "name": "stdout",
     "output_type": "stream",
     "text": [
      "Not enough USDT in period 8534.0 [currPrice=111.26, wantedVol=  0.043]\n"
     ]
    },
    {
     "name": "stdout",
     "output_type": "stream",
     "text": [
      "Not enough USDT in period 8535.0 [currPrice=111.72, wantedVol=  0.030]\n"
     ]
    },
    {
     "name": "stdout",
     "output_type": "stream",
     "text": [
      "elapsed_time of evaluate_algorithm=5.30679988861084\n"
     ]
    },
    {
     "name": "stdout",
     "output_type": "stream",
     "text": [
      "WALLET: USDT   96.0573, XMR    0.0543 => in total USDT  102.2075, spent on fees USDT    0.1656 [max_base_score=1.5, volume_unit_target_currency_to_buy_in_percents=0.1, multiplication_threshold=2.91894781234364, min_volume_per_period_threshold=7874.468622143857, max_old_price_bin_count=200]\n"
     ]
    },
    {
     "name": "stdout",
     "output_type": "stream",
     "text": [
      "\n"
     ]
    },
    {
     "name": "stdout",
     "output_type": "stream",
     "text": [
      "elapsed_time of evaluate_algorithm=5.377302646636963\n"
     ]
    },
    {
     "name": "stdout",
     "output_type": "stream",
     "text": [
      "WALLET: USDT   18.0260, XMR    0.8784 => in total USDT  117.4505, spent on fees USDT    1.8812 [max_base_score=1.5, volume_unit_target_currency_to_buy_in_percents=2.0, multiplication_threshold=2.91894781234364, min_volume_per_period_threshold=7874.468622143857, max_old_price_bin_count=200]\n"
     ]
    },
    {
     "name": "stdout",
     "output_type": "stream",
     "text": [
      "\n"
     ]
    },
    {
     "name": "stdout",
     "output_type": "stream",
     "text": [
      "max_profit=1.9167141107802252\ntuples_with_good_profit=   max_old_price_bin_count  max_base_score  base_recognition_coefficient  \\\n0                      100             1.5                           1.0   \n\n   volume_unit_target_currency_to_buy [%]    profit  \n0                                     2.0  1.916714  \n\ndraw_profit_graph [thread=<Thread(Thread-39, started 139993141995264)>]\n\n"
     ]
    },
    {
     "data": {
      "image/png": "[encoded data removed]",
      "text/plain": [
       "<matplotlib.figure.Figure at 0x7f52a0d86be0>"
      ]
     },
     "metadata": {},
     "output_type": "display_data"
    }
   ],
   "source": [
    "trading_fee_decimal = 0.0025\n",
    "\n",
    "old_week_count = 8\n",
    "\n",
    "# DO NOT DELETE\n",
    "# (old_week_count, new_week_count, max_base_score, volume_unit_target_currency_to_buy_in_percents)\n",
    "# (8, 20, 3, 5)    => WALLET: USDT 162.164, BTC 0.0018 => in total USDT 170    (.8 multiplication of final_balance)\n",
    "# (8, 10, 3, 2.3)  => WALLET: USDT 125.2,   BTC 0.0003 => in total USDT 126.4  (.8 multiplication of final_balance)\n",
    "# (8, 5, 2.3, 3.7) => WALLET: USDT 117.77,  BTC 0.0002 => in total USDT 118.62 (.8 multiplication of final_balance)\n",
    "# currency_pair = CurrencyPair('USDT', 'BTC', 0.0005)\n",
    "\n",
    "# DO NOT DELETE\n",
    "# (old_week_count, [(new_week_count, new_week_offset)], base_recognition_coefficient,\n",
    "#                                                       volume_unit_target_currency_to_buy_in_percents)\n",
    "# (8, [(8, *)], 1.5, 3) => TODO\n",
    "# (8, [(5, 15), (5, 12), (5, 9), (5, 6), (5, 3), (5, 0)], TODO, TODO) => TODO\n",
    "# (8, [(10, 9), (10, 6), (10, 3), (10, 0)], TODO, TODO) => TODO\n",
    "# (8, [(5, 6), (5, 3), (5, 0)], TODO, TODO) => TODO\n",
    "# (8, [(5, 11), (5, 6), (10, 12), (10, 2), (15, 20), (15, 5), (20, 31), (20, 11)], TODO, TODO) =>\n",
    "# (8, [(8, 0)], 2, 7) => WALLET: USDT   89.5249, ETH    0.1120 => in total USDT  122.0986\n",
    "# (8, 20) => WALLET: USDT   61.9524, ETH    0.2822 => in total USDT  143.9219 [\n",
    "#     max_base_score=1.5, volume_unit_target_currency_to_buy_in_percents=0.4,\n",
    "#     multiplication_threshold=4.133632624631665, min_volume_per_period_threshold=39963.07834025707]\n",
    "# currency_pair = CurrencyPair('USDT', 'ETH', 0.0005)\n",
    "\n",
    "# DO NOT DELETE\n",
    "# (old_week_count, new_week_count, max_base_score, volume_unit_target_currency_to_buy_in_percents)\n",
    "# (8, 20, 2.6, 5) => WALLET: USDT 220.526, LTC 0.2208 => in total USDT 232.8 (.8 multiplication of final_balance)\n",
    "# (8, 10, 2, 1)   => WALLET: USDT 27.3570, LTC 1.4877 => in total USDT 110   (.8 multiplication of final_balance)\n",
    "# (8, 5, .8, 1)   => WALLET: USDT 25.6203, LTC 1.3536 => in total USDT 101   (.8 multiplication of final_balance)\n",
    "# currency_pair = CurrencyPair('USDT', 'LTC', 0.0005)\n",
    "\n",
    "# DO NOT DELETE\n",
    "# (old_week_count, new_week_count, max_base_score, volume_unit_target_currency_to_buy_in_percents)\n",
    "# (8, [5, 10, 15, 20], 3, 1.3) => 20 weeks => WALLET: USDT    0.0000, XMR    1.5538 => in total USDT  144.8745\n",
    "currency_pair = CurrencyPair('USDT', 'XMR', 0.0005)\n",
    "\n",
    "# DO NOT DELETE\n",
    "# currency_pair = CurrencyPair('BTC', 'ETH', 0.0005)\n",
    "# currency_pair = CurrencyPair('BTC', 'LTC', 0.0005)\n",
    "# currency_pair = CurrencyPair('BTC', 'XMR', 0.0005)\n",
    "\n",
    "currency_pair_evaluator = CurrencyPairEvaluator(currency_pair)\n",
    "# DO NOT DELETE\n",
    "# currency_pair_evaluator.evaluate_one_time_frame_and_draw_and_close((2, 0))\n",
    "currency_pair_evaluator.evaluate_multiple_time_frames_and_draw([(5, 6), (5, 3)])\n",
    "# currency_pair_evaluator.evaluate_multiple_time_frames_and_draw([(5, 6), (5, 3), (5, 0)])\n",
    "# currency_pair_evaluator.evaluate_multiple_time_frames_and_draw([(5, 15), (5, 12), (5, 9), (5, 6), (5, 3), (5, 0)])\n",
    "\n",
    "# IDEAs to implement\n",
    "# (1) Recalculate bases after some period of time, because of strong rise of price"
   ]
  },
  {
   "cell_type": "code",
   "execution_count": 14,
   "metadata": {
    "collapsed": true
   },
   "outputs": [],
   "source": []
  }
 ],
 "metadata": {
  "kernelspec": {
   "display_name": "Python 3",
   "language": "python",
   "name": "python3"
  },
  "language_info": {
   "codemirror_mode": {
    "name": "ipython",
    "version": 3
   },
   "file_extension": ".py",
   "mimetype": "text/x-python",
   "name": "python",
   "nbconvert_exporter": "python",
   "pygments_lexer": "ipython3",
   "version": "3.5.2"
  }
 },
 "nbformat": 4,
 "nbformat_minor": 2
}
